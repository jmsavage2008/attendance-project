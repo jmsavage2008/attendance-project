{
 "cells": [
  {
   "cell_type": "code",
   "execution_count": 427,
   "id": "ecdc9398",
   "metadata": {},
   "outputs": [
    {
     "data": {
      "text/html": [
       "<div>\n",
       "<style scoped>\n",
       "    .dataframe tbody tr th:only-of-type {\n",
       "        vertical-align: middle;\n",
       "    }\n",
       "\n",
       "    .dataframe tbody tr th {\n",
       "        vertical-align: top;\n",
       "    }\n",
       "\n",
       "    .dataframe thead th {\n",
       "        text-align: right;\n",
       "    }\n",
       "</style>\n",
       "<table border=\"1\" class=\"dataframe\">\n",
       "  <thead>\n",
       "    <tr style=\"text-align: right;\">\n",
       "      <th></th>\n",
       "      <th>District code</th>\n",
       "      <th>District name</th>\n",
       "      <th>Category</th>\n",
       "      <th>Student group</th>\n",
       "      <th>2021-2022 student count - year to date</th>\n",
       "      <th>2021-2022 attendance rate - year to date</th>\n",
       "      <th>2020-2021 student count</th>\n",
       "      <th>2020-2021 attendance rate</th>\n",
       "      <th>2019-2020 student count</th>\n",
       "      <th>2019-2020 attendance rate</th>\n",
       "      <th>Reporting period</th>\n",
       "      <th>Date update</th>\n",
       "    </tr>\n",
       "  </thead>\n",
       "  <tbody>\n",
       "    <tr>\n",
       "      <th>0</th>\n",
       "      <td>00000CT</td>\n",
       "      <td>Connecticut</td>\n",
       "      <td>NaN</td>\n",
       "      <td>All Students</td>\n",
       "      <td>500285</td>\n",
       "      <td>0.9169</td>\n",
       "      <td>496092.0</td>\n",
       "      <td>0.9294</td>\n",
       "      <td>508346.0</td>\n",
       "      <td>0.9479</td>\n",
       "      <td>June 2022</td>\n",
       "      <td>07/22/2022</td>\n",
       "    </tr>\n",
       "    <tr>\n",
       "      <th>1</th>\n",
       "      <td>00000CT</td>\n",
       "      <td>Connecticut</td>\n",
       "      <td>Homelessness</td>\n",
       "      <td>Students Experiencing Homelessness</td>\n",
       "      <td>1814</td>\n",
       "      <td>0.8348</td>\n",
       "      <td>1735.0</td>\n",
       "      <td>0.8155</td>\n",
       "      <td>3916.0</td>\n",
       "      <td>0.8884</td>\n",
       "      <td>June 2022</td>\n",
       "      <td>07/22/2022</td>\n",
       "    </tr>\n",
       "    <tr>\n",
       "      <th>2</th>\n",
       "      <td>00000CT</td>\n",
       "      <td>Connecticut</td>\n",
       "      <td>Students With Disabilities</td>\n",
       "      <td>Students With Disabilities</td>\n",
       "      <td>78417</td>\n",
       "      <td>0.8899</td>\n",
       "      <td>76487.0</td>\n",
       "      <td>0.8946</td>\n",
       "      <td>80365.0</td>\n",
       "      <td>0.9277</td>\n",
       "      <td>June 2022</td>\n",
       "      <td>07/22/2022</td>\n",
       "    </tr>\n",
       "    <tr>\n",
       "      <th>3</th>\n",
       "      <td>00000CT</td>\n",
       "      <td>Connecticut</td>\n",
       "      <td>Free/Reduced Lunch</td>\n",
       "      <td>Free Meal Eligible</td>\n",
       "      <td>168984</td>\n",
       "      <td>0.8851</td>\n",
       "      <td>176225.0</td>\n",
       "      <td>0.8861</td>\n",
       "      <td>193706.0</td>\n",
       "      <td>0.9314</td>\n",
       "      <td>June 2022</td>\n",
       "      <td>07/22/2022</td>\n",
       "    </tr>\n",
       "    <tr>\n",
       "      <th>4</th>\n",
       "      <td>00000CT</td>\n",
       "      <td>Connecticut</td>\n",
       "      <td>Free/Reduced Lunch</td>\n",
       "      <td>Reduced Price Meal Eligible</td>\n",
       "      <td>29905</td>\n",
       "      <td>0.9184</td>\n",
       "      <td>30886.0</td>\n",
       "      <td>0.9299</td>\n",
       "      <td>27507.0</td>\n",
       "      <td>0.9518</td>\n",
       "      <td>June 2022</td>\n",
       "      <td>07/22/2022</td>\n",
       "    </tr>\n",
       "    <tr>\n",
       "      <th>5</th>\n",
       "      <td>00000CT</td>\n",
       "      <td>Connecticut</td>\n",
       "      <td>Free/Reduced Lunch</td>\n",
       "      <td>Free/Reduced Price Meal Eligible</td>\n",
       "      <td>198889</td>\n",
       "      <td>0.8901</td>\n",
       "      <td>207111.0</td>\n",
       "      <td>0.8927</td>\n",
       "      <td>221213.0</td>\n",
       "      <td>0.9340</td>\n",
       "      <td>June 2022</td>\n",
       "      <td>07/22/2022</td>\n",
       "    </tr>\n",
       "    <tr>\n",
       "      <th>6</th>\n",
       "      <td>00000CT</td>\n",
       "      <td>Connecticut</td>\n",
       "      <td>English Learners</td>\n",
       "      <td>English Learners</td>\n",
       "      <td>43571</td>\n",
       "      <td>0.8976</td>\n",
       "      <td>40619.0</td>\n",
       "      <td>0.8948</td>\n",
       "      <td>45413.0</td>\n",
       "      <td>0.9389</td>\n",
       "      <td>June 2022</td>\n",
       "      <td>07/22/2022</td>\n",
       "    </tr>\n",
       "    <tr>\n",
       "      <th>7</th>\n",
       "      <td>00000CT</td>\n",
       "      <td>Connecticut</td>\n",
       "      <td>Race/Ethnicity</td>\n",
       "      <td>All other races</td>\n",
       "      <td>48700</td>\n",
       "      <td>0.9314</td>\n",
       "      <td>47339.0</td>\n",
       "      <td>0.9483</td>\n",
       "      <td>47260.0</td>\n",
       "      <td>0.9559</td>\n",
       "      <td>June 2022</td>\n",
       "      <td>07/22/2022</td>\n",
       "    </tr>\n",
       "    <tr>\n",
       "      <th>8</th>\n",
       "      <td>00000CT</td>\n",
       "      <td>Connecticut</td>\n",
       "      <td>Race/Ethnicity</td>\n",
       "      <td>Black or African American</td>\n",
       "      <td>63099</td>\n",
       "      <td>0.8941</td>\n",
       "      <td>62267.0</td>\n",
       "      <td>0.8931</td>\n",
       "      <td>64200.0</td>\n",
       "      <td>0.9401</td>\n",
       "      <td>June 2022</td>\n",
       "      <td>07/22/2022</td>\n",
       "    </tr>\n",
       "    <tr>\n",
       "      <th>9</th>\n",
       "      <td>00000CT</td>\n",
       "      <td>Connecticut</td>\n",
       "      <td>Race/Ethnicity</td>\n",
       "      <td>Hispanic/Latino of any race</td>\n",
       "      <td>146298</td>\n",
       "      <td>0.8935</td>\n",
       "      <td>138260.0</td>\n",
       "      <td>0.8975</td>\n",
       "      <td>136953.0</td>\n",
       "      <td>0.9362</td>\n",
       "      <td>June 2022</td>\n",
       "      <td>07/22/2022</td>\n",
       "    </tr>\n",
       "  </tbody>\n",
       "</table>\n",
       "</div>"
      ],
      "text/plain": [
       "  District code District name                    Category  \\\n",
       "0       00000CT   Connecticut                         NaN   \n",
       "1       00000CT   Connecticut                Homelessness   \n",
       "2       00000CT   Connecticut  Students With Disabilities   \n",
       "3       00000CT   Connecticut          Free/Reduced Lunch   \n",
       "4       00000CT   Connecticut          Free/Reduced Lunch   \n",
       "5       00000CT   Connecticut          Free/Reduced Lunch   \n",
       "6       00000CT   Connecticut            English Learners   \n",
       "7       00000CT   Connecticut              Race/Ethnicity   \n",
       "8       00000CT   Connecticut              Race/Ethnicity   \n",
       "9       00000CT   Connecticut              Race/Ethnicity   \n",
       "\n",
       "                        Student group  2021-2022 student count - year to date  \\\n",
       "0                        All Students                                  500285   \n",
       "1  Students Experiencing Homelessness                                    1814   \n",
       "2          Students With Disabilities                                   78417   \n",
       "3                  Free Meal Eligible                                  168984   \n",
       "4         Reduced Price Meal Eligible                                   29905   \n",
       "5    Free/Reduced Price Meal Eligible                                  198889   \n",
       "6                    English Learners                                   43571   \n",
       "7                     All other races                                   48700   \n",
       "8           Black or African American                                   63099   \n",
       "9         Hispanic/Latino of any race                                  146298   \n",
       "\n",
       "   2021-2022 attendance rate - year to date  2020-2021 student count  \\\n",
       "0                                    0.9169                 496092.0   \n",
       "1                                    0.8348                   1735.0   \n",
       "2                                    0.8899                  76487.0   \n",
       "3                                    0.8851                 176225.0   \n",
       "4                                    0.9184                  30886.0   \n",
       "5                                    0.8901                 207111.0   \n",
       "6                                    0.8976                  40619.0   \n",
       "7                                    0.9314                  47339.0   \n",
       "8                                    0.8941                  62267.0   \n",
       "9                                    0.8935                 138260.0   \n",
       "\n",
       "   2020-2021 attendance rate  2019-2020 student count  \\\n",
       "0                     0.9294                 508346.0   \n",
       "1                     0.8155                   3916.0   \n",
       "2                     0.8946                  80365.0   \n",
       "3                     0.8861                 193706.0   \n",
       "4                     0.9299                  27507.0   \n",
       "5                     0.8927                 221213.0   \n",
       "6                     0.8948                  45413.0   \n",
       "7                     0.9483                  47260.0   \n",
       "8                     0.8931                  64200.0   \n",
       "9                     0.8975                 136953.0   \n",
       "\n",
       "   2019-2020 attendance rate Reporting period Date update  \n",
       "0                     0.9479        June 2022  07/22/2022  \n",
       "1                     0.8884        June 2022  07/22/2022  \n",
       "2                     0.9277        June 2022  07/22/2022  \n",
       "3                     0.9314        June 2022  07/22/2022  \n",
       "4                     0.9518        June 2022  07/22/2022  \n",
       "5                     0.9340        June 2022  07/22/2022  \n",
       "6                     0.9389        June 2022  07/22/2022  \n",
       "7                     0.9559        June 2022  07/22/2022  \n",
       "8                     0.9401        June 2022  07/22/2022  \n",
       "9                     0.9362        June 2022  07/22/2022  "
      ]
     },
     "execution_count": 427,
     "metadata": {},
     "output_type": "execute_result"
    }
   ],
   "source": [
    "#Dependencies and Setup\n",
    "import matplotlib.pyplot as plt\n",
    "import pandas as pd\n",
    "import scipy.stats as st\n",
    "from scipy.stats import linregress\n",
    "import numpy as np\n",
    "\n",
    "#Upload from csv\n",
    "data_set_path = \"school_attendance.csv\"\n",
    "\n",
    "#Read data and results\n",
    "data_set_df = pd.read_csv(data_set_path)\n",
    "\n",
    "data_set_df.head(10)\n",
    "\n"
   ]
  },
  {
   "cell_type": "code",
   "execution_count": 401,
   "id": "89d757b7",
   "metadata": {},
   "outputs": [
    {
     "data": {
      "text/plain": [
       "201"
      ]
     },
     "execution_count": 401,
     "metadata": {},
     "output_type": "execute_result"
    }
   ],
   "source": [
    "#Count number of districts\n",
    "name_unique = data_set_df[\"District name\"].value_counts()\n",
    "name_count = len(name_unique)\n",
    "name_count"
   ]
  },
  {
   "cell_type": "code",
   "execution_count": 402,
   "id": "8d1ae272",
   "metadata": {},
   "outputs": [
    {
     "data": {
      "text/plain": [
       "Index(['District code', 'District name', 'Category', 'Student group',\n",
       "       '2021-2022 student count - year to date',\n",
       "       '2021-2022 attendance rate - year to date', '2020-2021 student count',\n",
       "       '2020-2021 attendance rate', '2019-2020 student count',\n",
       "       '2019-2020 attendance rate', 'Reporting period', 'Date update'],\n",
       "      dtype='object')"
      ]
     },
     "execution_count": 402,
     "metadata": {},
     "output_type": "execute_result"
    }
   ],
   "source": [
    "#List all columns\n",
    "data_set_df.columns\n"
   ]
  },
  {
   "cell_type": "code",
   "execution_count": 403,
   "id": "8fcf8770",
   "metadata": {},
   "outputs": [
    {
     "data": {
      "text/plain": [
       "District code                               2019\n",
       "District name                               2019\n",
       "Category                                    1818\n",
       "Student group                               2019\n",
       "2021-2022 student count - year to date      2019\n",
       "2021-2022 attendance rate - year to date    2019\n",
       "2020-2021 student count                     1963\n",
       "2020-2021 attendance rate                   1963\n",
       "2019-2020 student count                     1957\n",
       "2019-2020 attendance rate                   1957\n",
       "Reporting period                            2019\n",
       "Date update                                 2019\n",
       "dtype: int64"
      ]
     },
     "execution_count": 403,
     "metadata": {},
     "output_type": "execute_result"
    }
   ],
   "source": [
    "#Check for incomplete rows\n",
    "data_set_df.count()"
   ]
  },
  {
   "cell_type": "code",
   "execution_count": 404,
   "id": "b1355cc4",
   "metadata": {},
   "outputs": [
    {
     "data": {
      "text/plain": [
       "District code                                object\n",
       "District name                                object\n",
       "Category                                     object\n",
       "Student group                                object\n",
       "2021-2022 student count - year to date        int64\n",
       "2021-2022 attendance rate - year to date    float64\n",
       "2020-2021 student count                     float64\n",
       "2020-2021 attendance rate                   float64\n",
       "2019-2020 student count                     float64\n",
       "2019-2020 attendance rate                   float64\n",
       "Reporting period                             object\n",
       "Date update                                  object\n",
       "dtype: object"
      ]
     },
     "execution_count": 404,
     "metadata": {},
     "output_type": "execute_result"
    }
   ],
   "source": [
    "data_set_df.dtypes"
   ]
  },
  {
   "cell_type": "code",
   "execution_count": null,
   "id": "315de849",
   "metadata": {},
   "outputs": [],
   "source": []
  },
  {
   "cell_type": "markdown",
   "id": "140dba4c",
   "metadata": {},
   "source": [
    "# Average attendance rates"
   ]
  },
  {
   "cell_type": "code",
   "execution_count": 405,
   "id": "cf7610f1",
   "metadata": {},
   "outputs": [
    {
     "data": {
      "text/html": [
       "<div>\n",
       "<style scoped>\n",
       "    .dataframe tbody tr th:only-of-type {\n",
       "        vertical-align: middle;\n",
       "    }\n",
       "\n",
       "    .dataframe tbody tr th {\n",
       "        vertical-align: top;\n",
       "    }\n",
       "\n",
       "    .dataframe thead th {\n",
       "        text-align: right;\n",
       "    }\n",
       "</style>\n",
       "<table border=\"1\" class=\"dataframe\">\n",
       "  <thead>\n",
       "    <tr style=\"text-align: right;\">\n",
       "      <th></th>\n",
       "      <th>District name</th>\n",
       "      <th>2021-2022 attendance rate - year to date</th>\n",
       "      <th>2020-2021 attendance rate</th>\n",
       "      <th>2019-2020 attendance rate</th>\n",
       "    </tr>\n",
       "  </thead>\n",
       "  <tbody>\n",
       "    <tr>\n",
       "      <th>0</th>\n",
       "      <td>Connecticut</td>\n",
       "      <td>0.9169</td>\n",
       "      <td>0.9294</td>\n",
       "      <td>0.9479</td>\n",
       "    </tr>\n",
       "    <tr>\n",
       "      <th>13</th>\n",
       "      <td>Andover School District</td>\n",
       "      <td>0.9386</td>\n",
       "      <td>0.9680</td>\n",
       "      <td>0.9502</td>\n",
       "    </tr>\n",
       "    <tr>\n",
       "      <th>19</th>\n",
       "      <td>Ansonia School District</td>\n",
       "      <td>0.9045</td>\n",
       "      <td>0.8923</td>\n",
       "      <td>0.9413</td>\n",
       "    </tr>\n",
       "    <tr>\n",
       "      <th>31</th>\n",
       "      <td>Ashford School District</td>\n",
       "      <td>0.9309</td>\n",
       "      <td>0.9550</td>\n",
       "      <td>0.9585</td>\n",
       "    </tr>\n",
       "    <tr>\n",
       "      <th>40</th>\n",
       "      <td>Avon School District</td>\n",
       "      <td>0.9457</td>\n",
       "      <td>0.9621</td>\n",
       "      <td>0.9583</td>\n",
       "    </tr>\n",
       "    <tr>\n",
       "      <th>...</th>\n",
       "      <td>...</td>\n",
       "      <td>...</td>\n",
       "      <td>...</td>\n",
       "      <td>...</td>\n",
       "    </tr>\n",
       "    <tr>\n",
       "      <th>1972</th>\n",
       "      <td>Unified School District #2</td>\n",
       "      <td>0.9202</td>\n",
       "      <td>0.9602</td>\n",
       "      <td>0.9564</td>\n",
       "    </tr>\n",
       "    <tr>\n",
       "      <th>1977</th>\n",
       "      <td>Connecticut Technical Education and Career System</td>\n",
       "      <td>0.8985</td>\n",
       "      <td>0.9321</td>\n",
       "      <td>0.9480</td>\n",
       "    </tr>\n",
       "    <tr>\n",
       "      <th>1990</th>\n",
       "      <td>Norwich Free Academy District</td>\n",
       "      <td>0.8940</td>\n",
       "      <td>0.9000</td>\n",
       "      <td>0.9319</td>\n",
       "    </tr>\n",
       "    <tr>\n",
       "      <th>2002</th>\n",
       "      <td>The Gilbert School District</td>\n",
       "      <td>0.8901</td>\n",
       "      <td>0.9458</td>\n",
       "      <td>0.9394</td>\n",
       "    </tr>\n",
       "    <tr>\n",
       "      <th>2011</th>\n",
       "      <td>The Woodstock Academy District</td>\n",
       "      <td>0.9288</td>\n",
       "      <td>0.9589</td>\n",
       "      <td>0.9471</td>\n",
       "    </tr>\n",
       "  </tbody>\n",
       "</table>\n",
       "<p>201 rows × 4 columns</p>\n",
       "</div>"
      ],
      "text/plain": [
       "                                          District name  \\\n",
       "0                                           Connecticut   \n",
       "13                              Andover School District   \n",
       "19                              Ansonia School District   \n",
       "31                              Ashford School District   \n",
       "40                                 Avon School District   \n",
       "...                                                 ...   \n",
       "1972                         Unified School District #2   \n",
       "1977  Connecticut Technical Education and Career System   \n",
       "1990                      Norwich Free Academy District   \n",
       "2002                        The Gilbert School District   \n",
       "2011                     The Woodstock Academy District   \n",
       "\n",
       "      2021-2022 attendance rate - year to date  2020-2021 attendance rate  \\\n",
       "0                                       0.9169                     0.9294   \n",
       "13                                      0.9386                     0.9680   \n",
       "19                                      0.9045                     0.8923   \n",
       "31                                      0.9309                     0.9550   \n",
       "40                                      0.9457                     0.9621   \n",
       "...                                        ...                        ...   \n",
       "1972                                    0.9202                     0.9602   \n",
       "1977                                    0.8985                     0.9321   \n",
       "1990                                    0.8940                     0.9000   \n",
       "2002                                    0.8901                     0.9458   \n",
       "2011                                    0.9288                     0.9589   \n",
       "\n",
       "      2019-2020 attendance rate  \n",
       "0                        0.9479  \n",
       "13                       0.9502  \n",
       "19                       0.9413  \n",
       "31                       0.9585  \n",
       "40                       0.9583  \n",
       "...                         ...  \n",
       "1972                     0.9564  \n",
       "1977                     0.9480  \n",
       "1990                     0.9319  \n",
       "2002                     0.9394  \n",
       "2011                     0.9471  \n",
       "\n",
       "[201 rows x 4 columns]"
      ]
     },
     "execution_count": 405,
     "metadata": {},
     "output_type": "execute_result"
    }
   ],
   "source": [
    "all_students_df = data_set_df.loc[(data_set_df[\"Student group\"]==\"All Students\")]\n",
    "all_students_df = all_students_df[[\"District name\", \"2021-2022 attendance rate - year to date\",\n",
    "                                  \"2020-2021 attendance rate\", \"2019-2020 attendance rate\"]]\n",
    "all_students_df"
   ]
  },
  {
   "cell_type": "code",
   "execution_count": null,
   "id": "f325beb9",
   "metadata": {},
   "outputs": [],
   "source": []
  },
  {
   "cell_type": "code",
   "execution_count": null,
   "id": "0a97f2d7",
   "metadata": {},
   "outputs": [],
   "source": []
  },
  {
   "cell_type": "markdown",
   "id": "b23dfba8",
   "metadata": {},
   "source": [
    "# Overall Category Distribution"
   ]
  },
  {
   "cell_type": "code",
   "execution_count": 381,
   "id": "a7c86edf",
   "metadata": {
    "scrolled": true
   },
   "outputs": [
    {
     "data": {
      "text/html": [
       "<div>\n",
       "<style scoped>\n",
       "    .dataframe tbody tr th:only-of-type {\n",
       "        vertical-align: middle;\n",
       "    }\n",
       "\n",
       "    .dataframe tbody tr th {\n",
       "        vertical-align: top;\n",
       "    }\n",
       "\n",
       "    .dataframe thead th {\n",
       "        text-align: right;\n",
       "    }\n",
       "</style>\n",
       "<table border=\"1\" class=\"dataframe\">\n",
       "  <thead>\n",
       "    <tr style=\"text-align: right;\">\n",
       "      <th></th>\n",
       "      <th>District code</th>\n",
       "      <th>District name</th>\n",
       "      <th>Category</th>\n",
       "      <th>Student group</th>\n",
       "      <th>2021-2022 student count - year to date</th>\n",
       "      <th>2021-2022 attendance rate - year to date</th>\n",
       "      <th>2020-2021 student count</th>\n",
       "      <th>2020-2021 attendance rate</th>\n",
       "      <th>2019-2020 student count</th>\n",
       "      <th>2019-2020 attendance rate</th>\n",
       "      <th>Reporting period</th>\n",
       "      <th>Date update</th>\n",
       "    </tr>\n",
       "  </thead>\n",
       "  <tbody>\n",
       "    <tr>\n",
       "      <th>1</th>\n",
       "      <td>00000CT</td>\n",
       "      <td>Connecticut</td>\n",
       "      <td>Homelessness</td>\n",
       "      <td>Students Experiencing Homelessness</td>\n",
       "      <td>1814</td>\n",
       "      <td>83.48%</td>\n",
       "      <td>1735.0</td>\n",
       "      <td>81.55%</td>\n",
       "      <td>3916.0</td>\n",
       "      <td>88.84%</td>\n",
       "      <td>June 2022</td>\n",
       "      <td>07/22/2022</td>\n",
       "    </tr>\n",
       "    <tr>\n",
       "      <th>2</th>\n",
       "      <td>00000CT</td>\n",
       "      <td>Connecticut</td>\n",
       "      <td>Students With Disabilities</td>\n",
       "      <td>Students With Disabilities</td>\n",
       "      <td>78417</td>\n",
       "      <td>88.99%</td>\n",
       "      <td>76487.0</td>\n",
       "      <td>89.46%</td>\n",
       "      <td>80365.0</td>\n",
       "      <td>92.77%</td>\n",
       "      <td>June 2022</td>\n",
       "      <td>07/22/2022</td>\n",
       "    </tr>\n",
       "    <tr>\n",
       "      <th>3</th>\n",
       "      <td>00000CT</td>\n",
       "      <td>Connecticut</td>\n",
       "      <td>Free/Reduced Lunch</td>\n",
       "      <td>Free Meal Eligible</td>\n",
       "      <td>168984</td>\n",
       "      <td>88.51%</td>\n",
       "      <td>176225.0</td>\n",
       "      <td>88.61%</td>\n",
       "      <td>193706.0</td>\n",
       "      <td>93.14%</td>\n",
       "      <td>June 2022</td>\n",
       "      <td>07/22/2022</td>\n",
       "    </tr>\n",
       "    <tr>\n",
       "      <th>4</th>\n",
       "      <td>00000CT</td>\n",
       "      <td>Connecticut</td>\n",
       "      <td>Free/Reduced Lunch</td>\n",
       "      <td>Reduced Price Meal Eligible</td>\n",
       "      <td>29905</td>\n",
       "      <td>91.84%</td>\n",
       "      <td>30886.0</td>\n",
       "      <td>92.99%</td>\n",
       "      <td>27507.0</td>\n",
       "      <td>95.18%</td>\n",
       "      <td>June 2022</td>\n",
       "      <td>07/22/2022</td>\n",
       "    </tr>\n",
       "    <tr>\n",
       "      <th>5</th>\n",
       "      <td>00000CT</td>\n",
       "      <td>Connecticut</td>\n",
       "      <td>Free/Reduced Lunch</td>\n",
       "      <td>Free/Reduced Price Meal Eligible</td>\n",
       "      <td>198889</td>\n",
       "      <td>89.01%</td>\n",
       "      <td>207111.0</td>\n",
       "      <td>89.27%</td>\n",
       "      <td>221213.0</td>\n",
       "      <td>93.40%</td>\n",
       "      <td>June 2022</td>\n",
       "      <td>07/22/2022</td>\n",
       "    </tr>\n",
       "    <tr>\n",
       "      <th>6</th>\n",
       "      <td>00000CT</td>\n",
       "      <td>Connecticut</td>\n",
       "      <td>English Learners</td>\n",
       "      <td>English Learners</td>\n",
       "      <td>43571</td>\n",
       "      <td>89.76%</td>\n",
       "      <td>40619.0</td>\n",
       "      <td>89.48%</td>\n",
       "      <td>45413.0</td>\n",
       "      <td>93.89%</td>\n",
       "      <td>June 2022</td>\n",
       "      <td>07/22/2022</td>\n",
       "    </tr>\n",
       "  </tbody>\n",
       "</table>\n",
       "</div>"
      ],
      "text/plain": [
       "  District code District name                    Category  \\\n",
       "1       00000CT   Connecticut                Homelessness   \n",
       "2       00000CT   Connecticut  Students With Disabilities   \n",
       "3       00000CT   Connecticut          Free/Reduced Lunch   \n",
       "4       00000CT   Connecticut          Free/Reduced Lunch   \n",
       "5       00000CT   Connecticut          Free/Reduced Lunch   \n",
       "6       00000CT   Connecticut            English Learners   \n",
       "\n",
       "                        Student group  2021-2022 student count - year to date  \\\n",
       "1  Students Experiencing Homelessness                                    1814   \n",
       "2          Students With Disabilities                                   78417   \n",
       "3                  Free Meal Eligible                                  168984   \n",
       "4         Reduced Price Meal Eligible                                   29905   \n",
       "5    Free/Reduced Price Meal Eligible                                  198889   \n",
       "6                    English Learners                                   43571   \n",
       "\n",
       "  2021-2022 attendance rate - year to date  2020-2021 student count  \\\n",
       "1                                   83.48%                   1735.0   \n",
       "2                                   88.99%                  76487.0   \n",
       "3                                   88.51%                 176225.0   \n",
       "4                                   91.84%                  30886.0   \n",
       "5                                   89.01%                 207111.0   \n",
       "6                                   89.76%                  40619.0   \n",
       "\n",
       "  2020-2021 attendance rate  2019-2020 student count  \\\n",
       "1                    81.55%                   3916.0   \n",
       "2                    89.46%                  80365.0   \n",
       "3                    88.61%                 193706.0   \n",
       "4                    92.99%                  27507.0   \n",
       "5                    89.27%                 221213.0   \n",
       "6                    89.48%                  45413.0   \n",
       "\n",
       "  2019-2020 attendance rate Reporting period Date update  \n",
       "1                    88.84%        June 2022  07/22/2022  \n",
       "2                    92.77%        June 2022  07/22/2022  \n",
       "3                    93.14%        June 2022  07/22/2022  \n",
       "4                    95.18%        June 2022  07/22/2022  \n",
       "5                    93.40%        June 2022  07/22/2022  \n",
       "6                    93.89%        June 2022  07/22/2022  "
      ]
     },
     "execution_count": 381,
     "metadata": {},
     "output_type": "execute_result"
    }
   ],
   "source": [
    "#Limit down to only values for whole state\n",
    "all_schools_df = data_set_df.loc[(data_set_df[\"District name\"]==\"Connecticut\")&(data_set_df[\"Student group\"]!=\"All Students\")]\n",
    "all_schools_df.head(6)"
   ]
  },
  {
   "cell_type": "code",
   "execution_count": 382,
   "id": "16334b17",
   "metadata": {},
   "outputs": [
    {
     "data": {
      "image/png": "[encoded data removed]",
      "text/plain": [
       "<Figure size 640x480 with 1 Axes>"
      ]
     },
     "metadata": {},
     "output_type": "display_data"
    }
   ],
   "source": [
    "student_groups = all_schools_df[\"Student group\"]\n",
    "\n",
    "counts = all_schools_df[\"2021-2022 student count - year to date\"]\n",
    "\n",
    "x_axis = np.arange(len(student_groups))\n",
    "plt.bar(x_axis, counts)\n",
    "tick_locations = [value for value in x_axis]\n",
    "plt.xticks(tick_locations, student_groups, rotation=90)\n",
    "\n",
    "plt.show()"
   ]
  },
  {
   "cell_type": "code",
   "execution_count": 383,
   "id": "e44b34ce",
   "metadata": {},
   "outputs": [
    {
     "data": {
      "text/html": [
       "<div>\n",
       "<style scoped>\n",
       "    .dataframe tbody tr th:only-of-type {\n",
       "        vertical-align: middle;\n",
       "    }\n",
       "\n",
       "    .dataframe tbody tr th {\n",
       "        vertical-align: top;\n",
       "    }\n",
       "\n",
       "    .dataframe thead th {\n",
       "        text-align: right;\n",
       "    }\n",
       "</style>\n",
       "<table border=\"1\" class=\"dataframe\">\n",
       "  <thead>\n",
       "    <tr style=\"text-align: right;\">\n",
       "      <th></th>\n",
       "      <th>District code</th>\n",
       "      <th>District name</th>\n",
       "      <th>Category</th>\n",
       "      <th>Student group</th>\n",
       "      <th>2021-2022 student count - year to date</th>\n",
       "      <th>2021-2022 attendance rate - year to date</th>\n",
       "      <th>2020-2021 student count</th>\n",
       "      <th>2020-2021 attendance rate</th>\n",
       "      <th>2019-2020 student count</th>\n",
       "      <th>2019-2020 attendance rate</th>\n",
       "      <th>Reporting period</th>\n",
       "      <th>Date update</th>\n",
       "    </tr>\n",
       "  </thead>\n",
       "  <tbody>\n",
       "    <tr>\n",
       "      <th>5</th>\n",
       "      <td>00000CT</td>\n",
       "      <td>Connecticut</td>\n",
       "      <td>Free/Reduced Lunch</td>\n",
       "      <td>Free/Reduced Price Meal Eligible</td>\n",
       "      <td>198889</td>\n",
       "      <td>89.01%</td>\n",
       "      <td>207111.0</td>\n",
       "      <td>89.27%</td>\n",
       "      <td>221213.0</td>\n",
       "      <td>93.40%</td>\n",
       "      <td>June 2022</td>\n",
       "      <td>07/22/2022</td>\n",
       "    </tr>\n",
       "  </tbody>\n",
       "</table>\n",
       "</div>"
      ],
      "text/plain": [
       "  District code District name            Category  \\\n",
       "5       00000CT   Connecticut  Free/Reduced Lunch   \n",
       "\n",
       "                      Student group  2021-2022 student count - year to date  \\\n",
       "5  Free/Reduced Price Meal Eligible                                  198889   \n",
       "\n",
       "  2021-2022 attendance rate - year to date  2020-2021 student count  \\\n",
       "5                                   89.01%                 207111.0   \n",
       "\n",
       "  2020-2021 attendance rate  2019-2020 student count  \\\n",
       "5                    89.27%                 221213.0   \n",
       "\n",
       "  2019-2020 attendance rate Reporting period Date update  \n",
       "5                    93.40%        June 2022  07/22/2022  "
      ]
     },
     "execution_count": 383,
     "metadata": {},
     "output_type": "execute_result"
    }
   ],
   "source": [
    "#Limit down to all students and free/reduced meal groups\n",
    "all_fr_df = all_schools_df.loc[(all_schools_df[\"Student group\"]==\"All Students\") | (all_schools_df[\"Student group\"]==\"Free/Reduced Price Meal Eligible\")]\n",
    "all_fr_df"
   ]
  },
  {
   "cell_type": "code",
   "execution_count": 384,
   "id": "db7648e3",
   "metadata": {},
   "outputs": [
    {
     "data": {
      "image/png": "[encoded data removed]",
      "text/plain": [
       "<Figure size 640x480 with 1 Axes>"
      ]
     },
     "metadata": {},
     "output_type": "display_data"
    }
   ],
   "source": [
    "#LOOK AT AGAIN\n",
    "\n",
    "\n",
    "for index,row in all_fr_df.iterrows():\n",
    "    fr_count.append(row[4])\n",
    "    fr_groups.append(row[3])\n",
    "\n",
    "#Make Pie Chart\n",
    "plt.pie(fr_count, labels=fr_groups)\n",
    "plt.show()"
   ]
  },
  {
   "cell_type": "code",
   "execution_count": null,
   "id": "940f8ba5",
   "metadata": {},
   "outputs": [],
   "source": []
  },
  {
   "cell_type": "markdown",
   "id": "9d2824f9",
   "metadata": {},
   "source": [
    "# Free and Reduced Meals"
   ]
  },
  {
   "cell_type": "code",
   "execution_count": 385,
   "id": "90f9a12d",
   "metadata": {},
   "outputs": [
    {
     "data": {
      "text/html": [
       "<div>\n",
       "<style scoped>\n",
       "    .dataframe tbody tr th:only-of-type {\n",
       "        vertical-align: middle;\n",
       "    }\n",
       "\n",
       "    .dataframe tbody tr th {\n",
       "        vertical-align: top;\n",
       "    }\n",
       "\n",
       "    .dataframe thead th {\n",
       "        text-align: right;\n",
       "    }\n",
       "</style>\n",
       "<table border=\"1\" class=\"dataframe\">\n",
       "  <thead>\n",
       "    <tr style=\"text-align: right;\">\n",
       "      <th></th>\n",
       "      <th>District code</th>\n",
       "      <th>District name</th>\n",
       "      <th>Category</th>\n",
       "      <th>Student group</th>\n",
       "      <th>2021-2022 student count - year to date</th>\n",
       "      <th>2021-2022 attendance rate - year to date</th>\n",
       "      <th>2020-2021 student count</th>\n",
       "      <th>2020-2021 attendance rate</th>\n",
       "      <th>2019-2020 student count</th>\n",
       "      <th>2019-2020 attendance rate</th>\n",
       "      <th>Reporting period</th>\n",
       "      <th>Date update</th>\n",
       "    </tr>\n",
       "  </thead>\n",
       "  <tbody>\n",
       "    <tr>\n",
       "      <th>0</th>\n",
       "      <td>00000CT</td>\n",
       "      <td>Connecticut</td>\n",
       "      <td>NaN</td>\n",
       "      <td>All Students</td>\n",
       "      <td>500285</td>\n",
       "      <td>91.69%</td>\n",
       "      <td>496092.0</td>\n",
       "      <td>92.94%</td>\n",
       "      <td>508346.0</td>\n",
       "      <td>94.79%</td>\n",
       "      <td>June 2022</td>\n",
       "      <td>07/22/2022</td>\n",
       "    </tr>\n",
       "    <tr>\n",
       "      <th>5</th>\n",
       "      <td>00000CT</td>\n",
       "      <td>Connecticut</td>\n",
       "      <td>Free/Reduced Lunch</td>\n",
       "      <td>Free/Reduced Price Meal Eligible</td>\n",
       "      <td>198889</td>\n",
       "      <td>89.01%</td>\n",
       "      <td>207111.0</td>\n",
       "      <td>89.27%</td>\n",
       "      <td>221213.0</td>\n",
       "      <td>93.40%</td>\n",
       "      <td>June 2022</td>\n",
       "      <td>07/22/2022</td>\n",
       "    </tr>\n",
       "    <tr>\n",
       "      <th>13</th>\n",
       "      <td>0010011</td>\n",
       "      <td>Andover School District</td>\n",
       "      <td>NaN</td>\n",
       "      <td>All Students</td>\n",
       "      <td>161</td>\n",
       "      <td>93.86%</td>\n",
       "      <td>144.0</td>\n",
       "      <td>96.80%</td>\n",
       "      <td>158.0</td>\n",
       "      <td>95.02%</td>\n",
       "      <td>June 2022</td>\n",
       "      <td>07/22/2022</td>\n",
       "    </tr>\n",
       "    <tr>\n",
       "      <th>15</th>\n",
       "      <td>0010011</td>\n",
       "      <td>Andover School District</td>\n",
       "      <td>Free/Reduced Lunch</td>\n",
       "      <td>Free/Reduced Price Meal Eligible</td>\n",
       "      <td>30</td>\n",
       "      <td>92.74%</td>\n",
       "      <td>31.0</td>\n",
       "      <td>94.14%</td>\n",
       "      <td>37.0</td>\n",
       "      <td>94.01%</td>\n",
       "      <td>June 2022</td>\n",
       "      <td>07/22/2022</td>\n",
       "    </tr>\n",
       "    <tr>\n",
       "      <th>19</th>\n",
       "      <td>0020011</td>\n",
       "      <td>Ansonia School District</td>\n",
       "      <td>NaN</td>\n",
       "      <td>All Students</td>\n",
       "      <td>2139</td>\n",
       "      <td>90.45%</td>\n",
       "      <td>2153.0</td>\n",
       "      <td>89.23%</td>\n",
       "      <td>2185.0</td>\n",
       "      <td>94.13%</td>\n",
       "      <td>June 2022</td>\n",
       "      <td>07/22/2022</td>\n",
       "    </tr>\n",
       "    <tr>\n",
       "      <th>...</th>\n",
       "      <td>...</td>\n",
       "      <td>...</td>\n",
       "      <td>...</td>\n",
       "      <td>...</td>\n",
       "      <td>...</td>\n",
       "      <td>...</td>\n",
       "      <td>...</td>\n",
       "      <td>...</td>\n",
       "      <td>...</td>\n",
       "      <td>...</td>\n",
       "      <td>...</td>\n",
       "      <td>...</td>\n",
       "    </tr>\n",
       "    <tr>\n",
       "      <th>1994</th>\n",
       "      <td>9010022</td>\n",
       "      <td>Norwich Free Academy District</td>\n",
       "      <td>Free/Reduced Lunch</td>\n",
       "      <td>Free/Reduced Price Meal Eligible</td>\n",
       "      <td>1034</td>\n",
       "      <td>87.46%</td>\n",
       "      <td>932.0</td>\n",
       "      <td>86.26%</td>\n",
       "      <td>1164.0</td>\n",
       "      <td>91.85%</td>\n",
       "      <td>June 2022</td>\n",
       "      <td>07/22/2022</td>\n",
       "    </tr>\n",
       "    <tr>\n",
       "      <th>2002</th>\n",
       "      <td>9020022</td>\n",
       "      <td>The Gilbert School District</td>\n",
       "      <td>NaN</td>\n",
       "      <td>All Students</td>\n",
       "      <td>421</td>\n",
       "      <td>89.01%</td>\n",
       "      <td>445.0</td>\n",
       "      <td>94.58%</td>\n",
       "      <td>470.0</td>\n",
       "      <td>93.94%</td>\n",
       "      <td>June 2022</td>\n",
       "      <td>07/22/2022</td>\n",
       "    </tr>\n",
       "    <tr>\n",
       "      <th>2006</th>\n",
       "      <td>9020022</td>\n",
       "      <td>The Gilbert School District</td>\n",
       "      <td>Free/Reduced Lunch</td>\n",
       "      <td>Free/Reduced Price Meal Eligible</td>\n",
       "      <td>198</td>\n",
       "      <td>86.74%</td>\n",
       "      <td>205.0</td>\n",
       "      <td>92.56%</td>\n",
       "      <td>196.0</td>\n",
       "      <td>92.48%</td>\n",
       "      <td>June 2022</td>\n",
       "      <td>07/22/2022</td>\n",
       "    </tr>\n",
       "    <tr>\n",
       "      <th>2011</th>\n",
       "      <td>9030022</td>\n",
       "      <td>The Woodstock Academy District</td>\n",
       "      <td>NaN</td>\n",
       "      <td>All Students</td>\n",
       "      <td>1060</td>\n",
       "      <td>92.88%</td>\n",
       "      <td>1046.0</td>\n",
       "      <td>95.89%</td>\n",
       "      <td>1113.0</td>\n",
       "      <td>94.71%</td>\n",
       "      <td>June 2022</td>\n",
       "      <td>07/22/2022</td>\n",
       "    </tr>\n",
       "    <tr>\n",
       "      <th>2014</th>\n",
       "      <td>9030022</td>\n",
       "      <td>The Woodstock Academy District</td>\n",
       "      <td>Free/Reduced Lunch</td>\n",
       "      <td>Free/Reduced Price Meal Eligible</td>\n",
       "      <td>23</td>\n",
       "      <td>84.78%</td>\n",
       "      <td>NaN</td>\n",
       "      <td>nan%</td>\n",
       "      <td>42.0</td>\n",
       "      <td>89.43%</td>\n",
       "      <td>June 2022</td>\n",
       "      <td>07/22/2022</td>\n",
       "    </tr>\n",
       "  </tbody>\n",
       "</table>\n",
       "<p>398 rows × 12 columns</p>\n",
       "</div>"
      ],
      "text/plain": [
       "     District code                   District name            Category  \\\n",
       "0          00000CT                     Connecticut                 NaN   \n",
       "5          00000CT                     Connecticut  Free/Reduced Lunch   \n",
       "13         0010011         Andover School District                 NaN   \n",
       "15         0010011         Andover School District  Free/Reduced Lunch   \n",
       "19         0020011         Ansonia School District                 NaN   \n",
       "...            ...                             ...                 ...   \n",
       "1994       9010022   Norwich Free Academy District  Free/Reduced Lunch   \n",
       "2002       9020022     The Gilbert School District                 NaN   \n",
       "2006       9020022     The Gilbert School District  Free/Reduced Lunch   \n",
       "2011       9030022  The Woodstock Academy District                 NaN   \n",
       "2014       9030022  The Woodstock Academy District  Free/Reduced Lunch   \n",
       "\n",
       "                         Student group  \\\n",
       "0                         All Students   \n",
       "5     Free/Reduced Price Meal Eligible   \n",
       "13                        All Students   \n",
       "15    Free/Reduced Price Meal Eligible   \n",
       "19                        All Students   \n",
       "...                                ...   \n",
       "1994  Free/Reduced Price Meal Eligible   \n",
       "2002                      All Students   \n",
       "2006  Free/Reduced Price Meal Eligible   \n",
       "2011                      All Students   \n",
       "2014  Free/Reduced Price Meal Eligible   \n",
       "\n",
       "      2021-2022 student count - year to date  \\\n",
       "0                                     500285   \n",
       "5                                     198889   \n",
       "13                                       161   \n",
       "15                                        30   \n",
       "19                                      2139   \n",
       "...                                      ...   \n",
       "1994                                    1034   \n",
       "2002                                     421   \n",
       "2006                                     198   \n",
       "2011                                    1060   \n",
       "2014                                      23   \n",
       "\n",
       "     2021-2022 attendance rate - year to date  2020-2021 student count  \\\n",
       "0                                      91.69%                 496092.0   \n",
       "5                                      89.01%                 207111.0   \n",
       "13                                     93.86%                    144.0   \n",
       "15                                     92.74%                     31.0   \n",
       "19                                     90.45%                   2153.0   \n",
       "...                                       ...                      ...   \n",
       "1994                                   87.46%                    932.0   \n",
       "2002                                   89.01%                    445.0   \n",
       "2006                                   86.74%                    205.0   \n",
       "2011                                   92.88%                   1046.0   \n",
       "2014                                   84.78%                      NaN   \n",
       "\n",
       "     2020-2021 attendance rate  2019-2020 student count  \\\n",
       "0                       92.94%                 508346.0   \n",
       "5                       89.27%                 221213.0   \n",
       "13                      96.80%                    158.0   \n",
       "15                      94.14%                     37.0   \n",
       "19                      89.23%                   2185.0   \n",
       "...                        ...                      ...   \n",
       "1994                    86.26%                   1164.0   \n",
       "2002                    94.58%                    470.0   \n",
       "2006                    92.56%                    196.0   \n",
       "2011                    95.89%                   1113.0   \n",
       "2014                      nan%                     42.0   \n",
       "\n",
       "     2019-2020 attendance rate Reporting period Date update  \n",
       "0                       94.79%        June 2022  07/22/2022  \n",
       "5                       93.40%        June 2022  07/22/2022  \n",
       "13                      95.02%        June 2022  07/22/2022  \n",
       "15                      94.01%        June 2022  07/22/2022  \n",
       "19                      94.13%        June 2022  07/22/2022  \n",
       "...                        ...              ...         ...  \n",
       "1994                    91.85%        June 2022  07/22/2022  \n",
       "2002                    93.94%        June 2022  07/22/2022  \n",
       "2006                    92.48%        June 2022  07/22/2022  \n",
       "2011                    94.71%        June 2022  07/22/2022  \n",
       "2014                    89.43%        June 2022  07/22/2022  \n",
       "\n",
       "[398 rows x 12 columns]"
      ]
     },
     "execution_count": 385,
     "metadata": {},
     "output_type": "execute_result"
    }
   ],
   "source": [
    "#Filter by free and reduced meals\n",
    "fr_df = data_set_df.loc[(data_set_df[\"Student group\"]==\"Free/Reduced Price Meal Eligible\") | (data_set_df[\"Student group\"]==\"All Students\")]\n",
    "\n",
    "fr_df"
   ]
  },
  {
   "cell_type": "code",
   "execution_count": 348,
   "id": "39a0e30e",
   "metadata": {},
   "outputs": [
    {
     "data": {
      "text/plain": [
       "District name\n",
       "Connecticut                       2\n",
       "Trumbull School District          2\n",
       "Voluntown School District         2\n",
       "Wallingford School District       2\n",
       "Waterbury School District         2\n",
       "                                 ..\n",
       "Marlborough School District       2\n",
       "Meriden School District           2\n",
       "Middletown School District        2\n",
       "Milford School District           2\n",
       "The Woodstock Academy District    2\n",
       "Name: count, Length: 197, dtype: int64"
      ]
     },
     "execution_count": 348,
     "metadata": {},
     "output_type": "execute_result"
    }
   ],
   "source": [
    "fr_df=fr_df[(fr_df[\"District name\"]!=\"Union School District\")&(fr_df[\"District name\"]!=\"Sherman School District\")&(fr_df[\"District name\"]!=\"Hampton School District\")&(fr_df[\"District name\"]!=\"New Canaan School District\")]\n",
    "fr_df['District name'].value_counts()"
   ]
  },
  {
   "cell_type": "code",
   "execution_count": 349,
   "id": "9cd8e38d",
   "metadata": {},
   "outputs": [],
   "source": [
    "#Loop and pull out counts\n",
    "#Make lists\n",
    "all_students_counts=[]\n",
    "fr_students_counts=[]\n",
    "\n",
    "#Create loop to create lists for counts\n",
    "for index, row in fr_df.iterrows():\n",
    "    if row[\"Student group\"]==\"All Students\":\n",
    "        all_students_counts.append(row[\"2021-2022 student count - year to date\"])\n",
    "    if row[\"Student group\"]==\"Free/Reduced Price Meal Eligible\":\n",
    "        fr_students_counts.append(row[\"2021-2022 student count - year to date\"])\n",
    "\n",
    "#Make percents list to store percent free and reduced meals of each school\n",
    "i=0\n",
    "percents = []\n",
    "#Loop to add to percents list\n",
    "for item in fr_students_counts:\n",
    "    percents.append(fr_students_counts[i]/all_students_counts[i])\n",
    "    i=i+1\n",
    "    \n"
   ]
  },
  {
   "cell_type": "code",
   "execution_count": 386,
   "id": "796e58be",
   "metadata": {},
   "outputs": [
    {
     "data": {
      "text/html": [
       "<div>\n",
       "<style scoped>\n",
       "    .dataframe tbody tr th:only-of-type {\n",
       "        vertical-align: middle;\n",
       "    }\n",
       "\n",
       "    .dataframe tbody tr th {\n",
       "        vertical-align: top;\n",
       "    }\n",
       "\n",
       "    .dataframe thead th {\n",
       "        text-align: right;\n",
       "    }\n",
       "</style>\n",
       "<table border=\"1\" class=\"dataframe\">\n",
       "  <thead>\n",
       "    <tr style=\"text-align: right;\">\n",
       "      <th></th>\n",
       "      <th>District name</th>\n",
       "      <th>Student group_x</th>\n",
       "      <th>2021-2022 student count - year to date_x</th>\n",
       "      <th>2021-2022 attendance rate - year to date</th>\n",
       "      <th>Student group_y</th>\n",
       "      <th>2021-2022 student count - year to date_y</th>\n",
       "    </tr>\n",
       "  </thead>\n",
       "  <tbody>\n",
       "    <tr>\n",
       "      <th>0</th>\n",
       "      <td>Connecticut</td>\n",
       "      <td>All Students</td>\n",
       "      <td>500285</td>\n",
       "      <td>91.69%</td>\n",
       "      <td>Free/Reduced Price Meal Eligible</td>\n",
       "      <td>198889</td>\n",
       "    </tr>\n",
       "    <tr>\n",
       "      <th>1</th>\n",
       "      <td>Andover School District</td>\n",
       "      <td>All Students</td>\n",
       "      <td>161</td>\n",
       "      <td>93.86%</td>\n",
       "      <td>Free/Reduced Price Meal Eligible</td>\n",
       "      <td>30</td>\n",
       "    </tr>\n",
       "    <tr>\n",
       "      <th>2</th>\n",
       "      <td>Ansonia School District</td>\n",
       "      <td>All Students</td>\n",
       "      <td>2139</td>\n",
       "      <td>90.45%</td>\n",
       "      <td>Free/Reduced Price Meal Eligible</td>\n",
       "      <td>1417</td>\n",
       "    </tr>\n",
       "    <tr>\n",
       "      <th>3</th>\n",
       "      <td>Ashford School District</td>\n",
       "      <td>All Students</td>\n",
       "      <td>343</td>\n",
       "      <td>93.09%</td>\n",
       "      <td>Free/Reduced Price Meal Eligible</td>\n",
       "      <td>113</td>\n",
       "    </tr>\n",
       "    <tr>\n",
       "      <th>4</th>\n",
       "      <td>Avon School District</td>\n",
       "      <td>All Students</td>\n",
       "      <td>3057</td>\n",
       "      <td>94.57%</td>\n",
       "      <td>Free/Reduced Price Meal Eligible</td>\n",
       "      <td>286</td>\n",
       "    </tr>\n",
       "  </tbody>\n",
       "</table>\n",
       "</div>"
      ],
      "text/plain": [
       "             District name Student group_x  \\\n",
       "0              Connecticut    All Students   \n",
       "1  Andover School District    All Students   \n",
       "2  Ansonia School District    All Students   \n",
       "3  Ashford School District    All Students   \n",
       "4     Avon School District    All Students   \n",
       "\n",
       "   2021-2022 student count - year to date_x  \\\n",
       "0                                    500285   \n",
       "1                                       161   \n",
       "2                                      2139   \n",
       "3                                       343   \n",
       "4                                      3057   \n",
       "\n",
       "  2021-2022 attendance rate - year to date                   Student group_y  \\\n",
       "0                                   91.69%  Free/Reduced Price Meal Eligible   \n",
       "1                                   93.86%  Free/Reduced Price Meal Eligible   \n",
       "2                                   90.45%  Free/Reduced Price Meal Eligible   \n",
       "3                                   93.09%  Free/Reduced Price Meal Eligible   \n",
       "4                                   94.57%  Free/Reduced Price Meal Eligible   \n",
       "\n",
       "   2021-2022 student count - year to date_y  \n",
       "0                                    198889  \n",
       "1                                        30  \n",
       "2                                      1417  \n",
       "3                                       113  \n",
       "4                                       286  "
      ]
     },
     "execution_count": 386,
     "metadata": {},
     "output_type": "execute_result"
    }
   ],
   "source": [
    "#Filter by Free/Reduced Meals\n",
    "frl_df = data_set_df.loc[(data_set_df[\"Student group\"]==\"Free/Reduced Price Meal Eligible\")]\n",
    "all_df = data_set_df.loc[(data_set_df[\"Student group\"]==\"All Students\")]\n",
    "\n",
    "\n",
    "#Limit data frame again\n",
    "frl_df = frl_df[[\"District name\", \"Student group\", \"2021-2022 student count - year to date\"]]\n",
    "all_df = all_df[[\"District name\", \"Student group\", \"2021-2022 student count - year to date\",\"2021-2022 attendance rate - year to date\"]]\n",
    "\n",
    "#Merge Data sets right\n",
    "merged_frl_df = pd.merge(all_df, frl_df, on=\"District name\", how=\"right\")\n",
    "\n",
    "#Check counts\n",
    "merged_frl_df.head()\n",
    "\n"
   ]
  },
  {
   "cell_type": "code",
   "execution_count": 387,
   "id": "f3c2f698",
   "metadata": {},
   "outputs": [
    {
     "data": {
      "text/html": [
       "<div>\n",
       "<style scoped>\n",
       "    .dataframe tbody tr th:only-of-type {\n",
       "        vertical-align: middle;\n",
       "    }\n",
       "\n",
       "    .dataframe tbody tr th {\n",
       "        vertical-align: top;\n",
       "    }\n",
       "\n",
       "    .dataframe thead th {\n",
       "        text-align: right;\n",
       "    }\n",
       "</style>\n",
       "<table border=\"1\" class=\"dataframe\">\n",
       "  <thead>\n",
       "    <tr style=\"text-align: right;\">\n",
       "      <th></th>\n",
       "      <th>District name</th>\n",
       "      <th>Student group_x</th>\n",
       "      <th>2021-2022 student count - year to date_x</th>\n",
       "      <th>2021-2022 attendance rate - year to date</th>\n",
       "      <th>Student group_y</th>\n",
       "      <th>2021-2022 student count - year to date_y</th>\n",
       "      <th>Percentage Free/Reduced Meal</th>\n",
       "    </tr>\n",
       "  </thead>\n",
       "  <tbody>\n",
       "    <tr>\n",
       "      <th>0</th>\n",
       "      <td>Connecticut</td>\n",
       "      <td>All Students</td>\n",
       "      <td>500285</td>\n",
       "      <td>91.69%</td>\n",
       "      <td>Free/Reduced Price Meal Eligible</td>\n",
       "      <td>198889</td>\n",
       "      <td>39.76%</td>\n",
       "    </tr>\n",
       "    <tr>\n",
       "      <th>1</th>\n",
       "      <td>Andover School District</td>\n",
       "      <td>All Students</td>\n",
       "      <td>161</td>\n",
       "      <td>93.86%</td>\n",
       "      <td>Free/Reduced Price Meal Eligible</td>\n",
       "      <td>30</td>\n",
       "      <td>18.63%</td>\n",
       "    </tr>\n",
       "    <tr>\n",
       "      <th>2</th>\n",
       "      <td>Ansonia School District</td>\n",
       "      <td>All Students</td>\n",
       "      <td>2139</td>\n",
       "      <td>90.45%</td>\n",
       "      <td>Free/Reduced Price Meal Eligible</td>\n",
       "      <td>1417</td>\n",
       "      <td>66.25%</td>\n",
       "    </tr>\n",
       "    <tr>\n",
       "      <th>3</th>\n",
       "      <td>Ashford School District</td>\n",
       "      <td>All Students</td>\n",
       "      <td>343</td>\n",
       "      <td>93.09%</td>\n",
       "      <td>Free/Reduced Price Meal Eligible</td>\n",
       "      <td>113</td>\n",
       "      <td>32.94%</td>\n",
       "    </tr>\n",
       "    <tr>\n",
       "      <th>4</th>\n",
       "      <td>Avon School District</td>\n",
       "      <td>All Students</td>\n",
       "      <td>3057</td>\n",
       "      <td>94.57%</td>\n",
       "      <td>Free/Reduced Price Meal Eligible</td>\n",
       "      <td>286</td>\n",
       "      <td>9.36%</td>\n",
       "    </tr>\n",
       "  </tbody>\n",
       "</table>\n",
       "</div>"
      ],
      "text/plain": [
       "             District name Student group_x  \\\n",
       "0              Connecticut    All Students   \n",
       "1  Andover School District    All Students   \n",
       "2  Ansonia School District    All Students   \n",
       "3  Ashford School District    All Students   \n",
       "4     Avon School District    All Students   \n",
       "\n",
       "   2021-2022 student count - year to date_x  \\\n",
       "0                                    500285   \n",
       "1                                       161   \n",
       "2                                      2139   \n",
       "3                                       343   \n",
       "4                                      3057   \n",
       "\n",
       "  2021-2022 attendance rate - year to date                   Student group_y  \\\n",
       "0                                   91.69%  Free/Reduced Price Meal Eligible   \n",
       "1                                   93.86%  Free/Reduced Price Meal Eligible   \n",
       "2                                   90.45%  Free/Reduced Price Meal Eligible   \n",
       "3                                   93.09%  Free/Reduced Price Meal Eligible   \n",
       "4                                   94.57%  Free/Reduced Price Meal Eligible   \n",
       "\n",
       "   2021-2022 student count - year to date_y Percentage Free/Reduced Meal  \n",
       "0                                    198889                       39.76%  \n",
       "1                                        30                       18.63%  \n",
       "2                                      1417                       66.25%  \n",
       "3                                       113                       32.94%  \n",
       "4                                       286                        9.36%  "
      ]
     },
     "execution_count": 387,
     "metadata": {},
     "output_type": "execute_result"
    }
   ],
   "source": [
    "#Calculate FRM percents of total\n",
    "merged_frl_df[\"Percentage Free/Reduced Meal\"]=merged_frl_df[\"2021-2022 student count - year to date_y\"]/merged_frl_df['2021-2022 student count - year to date_x']\n",
    "merged_frl_df[\"Percentage Free/Reduced Meal\"] = merged_frl_df[\"Percentage Free/Reduced Meal\"].map('{:0.2%}'.format)\n",
    "merged_frl_df.head()"
   ]
  },
  {
   "cell_type": "code",
   "execution_count": 388,
   "id": "0fac4ecb",
   "metadata": {},
   "outputs": [
    {
     "data": {
      "text/plain": [
       "District name                               197\n",
       "Student group_x                             197\n",
       "2021-2022 student count - year to date_x    197\n",
       "2021-2022 attendance rate - year to date    197\n",
       "Student group_y                             197\n",
       "2021-2022 student count - year to date_y    197\n",
       "Percentage Free/Reduced Meal                197\n",
       "dtype: int64"
      ]
     },
     "execution_count": 388,
     "metadata": {},
     "output_type": "execute_result"
    }
   ],
   "source": [
    "#Check Counts\n",
    "merged_frl_df.count()"
   ]
  },
  {
   "cell_type": "code",
   "execution_count": 389,
   "id": "a1ff0dd8",
   "metadata": {},
   "outputs": [
    {
     "ename": "TypeError",
     "evalue": "ufunc 'divide' not supported for the input types, and the inputs could not be safely coerced to any supported types according to the casting rule ''safe''",
     "output_type": "error",
     "traceback": [
      "\u001b[0;31m---------------------------------------------------------------------------\u001b[0m",
      "\u001b[0;31mTypeError\u001b[0m                                 Traceback (most recent call last)",
      "Cell \u001b[0;32mIn[389], line 3\u001b[0m\n\u001b[1;32m      1\u001b[0m x_values \u001b[38;5;241m=\u001b[39m merged_frl_df[\u001b[38;5;124m\"\u001b[39m\u001b[38;5;124mPercentage Free/Reduced Meal\u001b[39m\u001b[38;5;124m\"\u001b[39m]\n\u001b[1;32m      2\u001b[0m y_values \u001b[38;5;241m=\u001b[39m merged_frl_df[\u001b[38;5;124m\"\u001b[39m\u001b[38;5;124m2021-2022 attendance rate - year to date\u001b[39m\u001b[38;5;124m\"\u001b[39m]\n\u001b[0;32m----> 3\u001b[0m (slope, intercept, rvalue, pvalue, stderr) \u001b[38;5;241m=\u001b[39m linregress(x_values, y_values)\n\u001b[1;32m      4\u001b[0m regress_values \u001b[38;5;241m=\u001b[39m x_values \u001b[38;5;241m*\u001b[39m slope \u001b[38;5;241m+\u001b[39m intercept\n\u001b[1;32m      5\u001b[0m line_eq \u001b[38;5;241m=\u001b[39m \u001b[38;5;124m\"\u001b[39m\u001b[38;5;124my = \u001b[39m\u001b[38;5;124m\"\u001b[39m \u001b[38;5;241m+\u001b[39m \u001b[38;5;28mstr\u001b[39m(\u001b[38;5;28mround\u001b[39m(slope,\u001b[38;5;241m2\u001b[39m)) \u001b[38;5;241m+\u001b[39m \u001b[38;5;124m\"\u001b[39m\u001b[38;5;124mx + \u001b[39m\u001b[38;5;124m\"\u001b[39m \u001b[38;5;241m+\u001b[39m \u001b[38;5;28mstr\u001b[39m(\u001b[38;5;28mround\u001b[39m(intercept,\u001b[38;5;241m2\u001b[39m))\n",
      "File \u001b[0;32m~/anaconda3/lib/python3.11/site-packages/scipy/stats/_stats_mstats_common.py:161\u001b[0m, in \u001b[0;36mlinregress\u001b[0;34m(x, y, alternative)\u001b[0m\n\u001b[1;32m    157\u001b[0m     \u001b[38;5;28;01mraise\u001b[39;00m \u001b[38;5;167;01mValueError\u001b[39;00m(\u001b[38;5;124m\"\u001b[39m\u001b[38;5;124mCannot calculate a linear regression \u001b[39m\u001b[38;5;124m\"\u001b[39m\n\u001b[1;32m    158\u001b[0m                      \u001b[38;5;124m\"\u001b[39m\u001b[38;5;124mif all x values are identical\u001b[39m\u001b[38;5;124m\"\u001b[39m)\n\u001b[1;32m    160\u001b[0m n \u001b[38;5;241m=\u001b[39m \u001b[38;5;28mlen\u001b[39m(x)\n\u001b[0;32m--> 161\u001b[0m xmean \u001b[38;5;241m=\u001b[39m np\u001b[38;5;241m.\u001b[39mmean(x, \u001b[38;5;28;01mNone\u001b[39;00m)\n\u001b[1;32m    162\u001b[0m ymean \u001b[38;5;241m=\u001b[39m np\u001b[38;5;241m.\u001b[39mmean(y, \u001b[38;5;28;01mNone\u001b[39;00m)\n\u001b[1;32m    164\u001b[0m \u001b[38;5;66;03m# Average sums of square differences from the mean\u001b[39;00m\n\u001b[1;32m    165\u001b[0m \u001b[38;5;66;03m#   ssxm = mean( (x-mean(x))^2 )\u001b[39;00m\n\u001b[1;32m    166\u001b[0m \u001b[38;5;66;03m#   ssxym = mean( (x-mean(x)) * (y-mean(y)) )\u001b[39;00m\n",
      "File \u001b[0;32m<__array_function__ internals>:200\u001b[0m, in \u001b[0;36mmean\u001b[0;34m(*args, **kwargs)\u001b[0m\n",
      "File \u001b[0;32m~/anaconda3/lib/python3.11/site-packages/numpy/core/fromnumeric.py:3464\u001b[0m, in \u001b[0;36mmean\u001b[0;34m(a, axis, dtype, out, keepdims, where)\u001b[0m\n\u001b[1;32m   3461\u001b[0m     \u001b[38;5;28;01melse\u001b[39;00m:\n\u001b[1;32m   3462\u001b[0m         \u001b[38;5;28;01mreturn\u001b[39;00m mean(axis\u001b[38;5;241m=\u001b[39maxis, dtype\u001b[38;5;241m=\u001b[39mdtype, out\u001b[38;5;241m=\u001b[39mout, \u001b[38;5;241m*\u001b[39m\u001b[38;5;241m*\u001b[39mkwargs)\n\u001b[0;32m-> 3464\u001b[0m \u001b[38;5;28;01mreturn\u001b[39;00m _methods\u001b[38;5;241m.\u001b[39m_mean(a, axis\u001b[38;5;241m=\u001b[39maxis, dtype\u001b[38;5;241m=\u001b[39mdtype,\n\u001b[1;32m   3465\u001b[0m                       out\u001b[38;5;241m=\u001b[39mout, \u001b[38;5;241m*\u001b[39m\u001b[38;5;241m*\u001b[39mkwargs)\n",
      "File \u001b[0;32m~/anaconda3/lib/python3.11/site-packages/numpy/core/_methods.py:194\u001b[0m, in \u001b[0;36m_mean\u001b[0;34m(a, axis, dtype, out, keepdims, where)\u001b[0m\n\u001b[1;32m    192\u001b[0m         ret \u001b[38;5;241m=\u001b[39m ret\u001b[38;5;241m.\u001b[39mdtype\u001b[38;5;241m.\u001b[39mtype(ret \u001b[38;5;241m/\u001b[39m rcount)\n\u001b[1;32m    193\u001b[0m \u001b[38;5;28;01melse\u001b[39;00m:\n\u001b[0;32m--> 194\u001b[0m     ret \u001b[38;5;241m=\u001b[39m ret \u001b[38;5;241m/\u001b[39m rcount\n\u001b[1;32m    196\u001b[0m \u001b[38;5;28;01mreturn\u001b[39;00m ret\n",
      "\u001b[0;31mTypeError\u001b[0m: ufunc 'divide' not supported for the input types, and the inputs could not be safely coerced to any supported types according to the casting rule ''safe''"
     ]
    }
   ],
   "source": [
    "x_values = merged_frl_df[\"Percentage Free/Reduced Meal\"]\n",
    "y_values = merged_frl_df[\"2021-2022 attendance rate - year to date\"]\n",
    "(slope, intercept, rvalue, pvalue, stderr) = linregress(x_values, y_values)\n",
    "regress_values = x_values * slope + intercept\n",
    "line_eq = \"y = \" + str(round(slope,2)) + \"x + \" + str(round(intercept,2))\n",
    "plt.scatter(x_values,y_values)\n",
    "plt.plot(x_values,regress_values,\"r-\")\n",
    "plt.xlabel('Percent of Hispanic/Latino of any race')\n",
    "plt.ylabel('Attendance Rate')\n",
    "print(rvalue)\n",
    "plt.show()"
   ]
  },
  {
   "cell_type": "code",
   "execution_count": 290,
   "id": "1be3e6a8",
   "metadata": {},
   "outputs": [
    {
     "name": "stdout",
     "output_type": "stream",
     "text": [
      "The correlation between both factors is -0.64\n"
     ]
    }
   ],
   "source": [
    "correlation = st.pearsonr(x_values, y_values)\n",
    "print(f\"The correlation between both factors is {round(correlation[0],2)}\")"
   ]
  },
  {
   "cell_type": "code",
   "execution_count": null,
   "id": "afd608ee",
   "metadata": {},
   "outputs": [],
   "source": []
  },
  {
   "cell_type": "markdown",
   "id": "5f7e3f28",
   "metadata": {},
   "source": [
    "# English Learners"
   ]
  },
  {
   "cell_type": "code",
   "execution_count": 234,
   "id": "9cf69a5e",
   "metadata": {},
   "outputs": [
    {
     "data": {
      "text/html": [
       "<div>\n",
       "<style scoped>\n",
       "    .dataframe tbody tr th:only-of-type {\n",
       "        vertical-align: middle;\n",
       "    }\n",
       "\n",
       "    .dataframe tbody tr th {\n",
       "        vertical-align: top;\n",
       "    }\n",
       "\n",
       "    .dataframe thead th {\n",
       "        text-align: right;\n",
       "    }\n",
       "</style>\n",
       "<table border=\"1\" class=\"dataframe\">\n",
       "  <thead>\n",
       "    <tr style=\"text-align: right;\">\n",
       "      <th></th>\n",
       "      <th>District name</th>\n",
       "      <th>Student group_x</th>\n",
       "      <th>2021-2022 student count - year to date_x</th>\n",
       "      <th>2021-2022 attendance rate - year to date</th>\n",
       "      <th>Student group_y</th>\n",
       "      <th>2021-2022 student count - year to date_y</th>\n",
       "    </tr>\n",
       "  </thead>\n",
       "  <tbody>\n",
       "    <tr>\n",
       "      <th>0</th>\n",
       "      <td>Connecticut</td>\n",
       "      <td>All Students</td>\n",
       "      <td>500285</td>\n",
       "      <td>0.9169</td>\n",
       "      <td>English Learners</td>\n",
       "      <td>43571</td>\n",
       "    </tr>\n",
       "    <tr>\n",
       "      <th>1</th>\n",
       "      <td>Ansonia School District</td>\n",
       "      <td>All Students</td>\n",
       "      <td>2139</td>\n",
       "      <td>0.9045</td>\n",
       "      <td>English Learners</td>\n",
       "      <td>122</td>\n",
       "    </tr>\n",
       "    <tr>\n",
       "      <th>2</th>\n",
       "      <td>Avon School District</td>\n",
       "      <td>All Students</td>\n",
       "      <td>3057</td>\n",
       "      <td>0.9457</td>\n",
       "      <td>English Learners</td>\n",
       "      <td>76</td>\n",
       "    </tr>\n",
       "    <tr>\n",
       "      <th>3</th>\n",
       "      <td>Berlin School District</td>\n",
       "      <td>All Students</td>\n",
       "      <td>2613</td>\n",
       "      <td>0.9341</td>\n",
       "      <td>English Learners</td>\n",
       "      <td>95</td>\n",
       "    </tr>\n",
       "    <tr>\n",
       "      <th>4</th>\n",
       "      <td>Bethel School District</td>\n",
       "      <td>All Students</td>\n",
       "      <td>3102</td>\n",
       "      <td>0.9375</td>\n",
       "      <td>English Learners</td>\n",
       "      <td>167</td>\n",
       "    </tr>\n",
       "  </tbody>\n",
       "</table>\n",
       "</div>"
      ],
      "text/plain": [
       "             District name Student group_x  \\\n",
       "0              Connecticut    All Students   \n",
       "1  Ansonia School District    All Students   \n",
       "2     Avon School District    All Students   \n",
       "3   Berlin School District    All Students   \n",
       "4   Bethel School District    All Students   \n",
       "\n",
       "   2021-2022 student count - year to date_x  \\\n",
       "0                                    500285   \n",
       "1                                      2139   \n",
       "2                                      3057   \n",
       "3                                      2613   \n",
       "4                                      3102   \n",
       "\n",
       "   2021-2022 attendance rate - year to date   Student group_y  \\\n",
       "0                                    0.9169  English Learners   \n",
       "1                                    0.9045  English Learners   \n",
       "2                                    0.9457  English Learners   \n",
       "3                                    0.9341  English Learners   \n",
       "4                                    0.9375  English Learners   \n",
       "\n",
       "   2021-2022 student count - year to date_y  \n",
       "0                                     43571  \n",
       "1                                       122  \n",
       "2                                        76  \n",
       "3                                        95  \n",
       "4                                       167  "
      ]
     },
     "execution_count": 234,
     "metadata": {},
     "output_type": "execute_result"
    }
   ],
   "source": [
    "#Filter by English learners\n",
    "ell_df = data_set_df.loc[(data_set_df[\"Student group\"]==\"English Learners\")]\n",
    "all_df = data_set_df.loc[(data_set_df[\"Student group\"]==\"All Students\")]\n",
    "\n",
    "\n",
    "#Limit data frame again\n",
    "ell_df = ell_df[[\"District name\", \"Student group\", \"2021-2022 student count - year to date\"]]\n",
    "all_df = all_df[[\"District name\", \"Student group\", \"2021-2022 student count - year to date\", \"2021-2022 attendance rate - year to date\"]]\n",
    "\n",
    "#Merge Data sets right\n",
    "merged_ell_df = pd.merge(all_df, ell_df, on=\"District name\", how=\"right\")\n",
    "\n",
    "#Check counts\n",
    "merged_ell_df.head()\n",
    "\n"
   ]
  },
  {
   "cell_type": "code",
   "execution_count": 236,
   "id": "93306b62",
   "metadata": {},
   "outputs": [
    {
     "data": {
      "text/html": [
       "<div>\n",
       "<style scoped>\n",
       "    .dataframe tbody tr th:only-of-type {\n",
       "        vertical-align: middle;\n",
       "    }\n",
       "\n",
       "    .dataframe tbody tr th {\n",
       "        vertical-align: top;\n",
       "    }\n",
       "\n",
       "    .dataframe thead th {\n",
       "        text-align: right;\n",
       "    }\n",
       "</style>\n",
       "<table border=\"1\" class=\"dataframe\">\n",
       "  <thead>\n",
       "    <tr style=\"text-align: right;\">\n",
       "      <th></th>\n",
       "      <th>District name</th>\n",
       "      <th>Student group_x</th>\n",
       "      <th>2021-2022 student count - year to date_x</th>\n",
       "      <th>2021-2022 attendance rate - year to date</th>\n",
       "      <th>Student group_y</th>\n",
       "      <th>2021-2022 student count - year to date_y</th>\n",
       "      <th>Percentage ELL</th>\n",
       "    </tr>\n",
       "  </thead>\n",
       "  <tbody>\n",
       "    <tr>\n",
       "      <th>0</th>\n",
       "      <td>Connecticut</td>\n",
       "      <td>All Students</td>\n",
       "      <td>500285</td>\n",
       "      <td>0.9169</td>\n",
       "      <td>English Learners</td>\n",
       "      <td>43571</td>\n",
       "      <td>0.087092</td>\n",
       "    </tr>\n",
       "    <tr>\n",
       "      <th>1</th>\n",
       "      <td>Ansonia School District</td>\n",
       "      <td>All Students</td>\n",
       "      <td>2139</td>\n",
       "      <td>0.9045</td>\n",
       "      <td>English Learners</td>\n",
       "      <td>122</td>\n",
       "      <td>0.057036</td>\n",
       "    </tr>\n",
       "    <tr>\n",
       "      <th>2</th>\n",
       "      <td>Avon School District</td>\n",
       "      <td>All Students</td>\n",
       "      <td>3057</td>\n",
       "      <td>0.9457</td>\n",
       "      <td>English Learners</td>\n",
       "      <td>76</td>\n",
       "      <td>0.024861</td>\n",
       "    </tr>\n",
       "    <tr>\n",
       "      <th>3</th>\n",
       "      <td>Berlin School District</td>\n",
       "      <td>All Students</td>\n",
       "      <td>2613</td>\n",
       "      <td>0.9341</td>\n",
       "      <td>English Learners</td>\n",
       "      <td>95</td>\n",
       "      <td>0.036357</td>\n",
       "    </tr>\n",
       "    <tr>\n",
       "      <th>4</th>\n",
       "      <td>Bethel School District</td>\n",
       "      <td>All Students</td>\n",
       "      <td>3102</td>\n",
       "      <td>0.9375</td>\n",
       "      <td>English Learners</td>\n",
       "      <td>167</td>\n",
       "      <td>0.053836</td>\n",
       "    </tr>\n",
       "  </tbody>\n",
       "</table>\n",
       "</div>"
      ],
      "text/plain": [
       "             District name Student group_x  \\\n",
       "0              Connecticut    All Students   \n",
       "1  Ansonia School District    All Students   \n",
       "2     Avon School District    All Students   \n",
       "3   Berlin School District    All Students   \n",
       "4   Bethel School District    All Students   \n",
       "\n",
       "   2021-2022 student count - year to date_x  \\\n",
       "0                                    500285   \n",
       "1                                      2139   \n",
       "2                                      3057   \n",
       "3                                      2613   \n",
       "4                                      3102   \n",
       "\n",
       "   2021-2022 attendance rate - year to date   Student group_y  \\\n",
       "0                                    0.9169  English Learners   \n",
       "1                                    0.9045  English Learners   \n",
       "2                                    0.9457  English Learners   \n",
       "3                                    0.9341  English Learners   \n",
       "4                                    0.9375  English Learners   \n",
       "\n",
       "   2021-2022 student count - year to date_y  Percentage ELL  \n",
       "0                                     43571        0.087092  \n",
       "1                                       122        0.057036  \n",
       "2                                        76        0.024861  \n",
       "3                                        95        0.036357  \n",
       "4                                       167        0.053836  "
      ]
     },
     "execution_count": 236,
     "metadata": {},
     "output_type": "execute_result"
    }
   ],
   "source": [
    "#Calculate ELL percents of total\n",
    "merged_ell_df[\"Percentage ELL\"]=merged_ell_df[\"2021-2022 student count - year to date_y\"]/merged_ell_df['2021-2022 student count - year to date_x']\n",
    "\n",
    "#Check Count\n",
    "merged_ell_df.head()"
   ]
  },
  {
   "cell_type": "code",
   "execution_count": 489,
   "id": "3b929f4f",
   "metadata": {},
   "outputs": [
    {
     "name": "stdout",
     "output_type": "stream",
     "text": [
      "-0.5324713816396521\n"
     ]
    },
    {
     "data": {
      "image/png": "[encoded data removed]",
      "text/plain": [
       "<Figure size 640x480 with 1 Axes>"
      ]
     },
     "metadata": {},
     "output_type": "display_data"
    }
   ],
   "source": [
    "x_values = merged_ell_df[\"Percentage ELL\"]\n",
    "y_values = merged_ell_df[\"2021-2022 attendance rate - year to date\"]\n",
    "(slope, intercept, rvalue, pvalue, stderr) = linregress(x_values, y_values)\n",
    "regress_values = x_values * slope + intercept\n",
    "line_eq = \"y = \" + str(round(slope,2)) + \"x + \" + str(round(intercept,2))\n",
    "plt.scatter(x_values,y_values, edgecolors=\"darkslategray\", facecolors=\"lightskyblue\")\n",
    "plt.plot(x_values,regress_values,\"r-\")\n",
    "plt.xlabel('Percent of Students ELL')\n",
    "plt.ylabel('Attendance Rate')\n",
    "plt.annotate(line_eq,(0.15,0.86),fontsize=15, color = \"red\")\n",
    "print(rvalue)\n",
    "plt.show()"
   ]
  },
  {
   "cell_type": "code",
   "execution_count": 464,
   "id": "61c1a679",
   "metadata": {},
   "outputs": [
    {
     "data": {
      "text/plain": [
       "<Figure size 640x480 with 0 Axes>"
      ]
     },
     "metadata": {},
     "output_type": "display_data"
    }
   ],
   "source": [
    "#Save Figure\n",
    "plt.savefig(\"Images/ScatterELL.png\")"
   ]
  },
  {
   "cell_type": "code",
   "execution_count": 293,
   "id": "9316c51a",
   "metadata": {},
   "outputs": [
    {
     "name": "stdout",
     "output_type": "stream",
     "text": [
      "The correlation between both factors is -0.53\n"
     ]
    }
   ],
   "source": [
    "correlation = st.pearsonr(x_values, y_values)\n",
    "print(f\"The correlation between both factors is {round(correlation[0],2)}\")"
   ]
  },
  {
   "cell_type": "markdown",
   "id": "8aeb5504",
   "metadata": {},
   "source": [
    "# Students with Disabilities"
   ]
  },
  {
   "cell_type": "code",
   "execution_count": 294,
   "id": "ef1158c3",
   "metadata": {},
   "outputs": [
    {
     "data": {
      "text/plain": [
       "District name                               190\n",
       "Student group_x                             190\n",
       "2021-2022 student count - year to date_x    190\n",
       "2021-2022 attendance rate - year to date    190\n",
       "Student group_y                             190\n",
       "2021-2022 student count - year to date_y    190\n",
       "dtype: int64"
      ]
     },
     "execution_count": 294,
     "metadata": {},
     "output_type": "execute_result"
    }
   ],
   "source": [
    "#Filter by Student with Disabilites\n",
    "dis_df = data_set_df.loc[(data_set_df[\"Student group\"]==\"Students With Disabilities\")]\n",
    "all_df = data_set_df.loc[(data_set_df[\"Student group\"]==\"All Students\")]\n",
    "\n",
    "\n",
    "#Limit data frame again\n",
    "dis_df = dis_df[[\"District name\", \"Student group\", \"2021-2022 student count - year to date\"]]\n",
    "all_df = all_df[[\"District name\", \"Student group\", \"2021-2022 student count - year to date\", \"2021-2022 attendance rate - year to date\"]]\n",
    "\n",
    "#Merge Data sets right\n",
    "merged_dis_df = pd.merge(all_df, dis_df, on=\"District name\", how=\"right\")\n",
    "\n",
    "#Check counts\n",
    "merged_dis_df.count()"
   ]
  },
  {
   "cell_type": "code",
   "execution_count": 295,
   "id": "42e10392",
   "metadata": {},
   "outputs": [
    {
     "data": {
      "text/plain": [
       "District name                               190\n",
       "Student group_x                             190\n",
       "2021-2022 student count - year to date_x    190\n",
       "2021-2022 attendance rate - year to date    190\n",
       "Student group_y                             190\n",
       "2021-2022 student count - year to date_y    190\n",
       "Percentage Disabilities                     190\n",
       "dtype: int64"
      ]
     },
     "execution_count": 295,
     "metadata": {},
     "output_type": "execute_result"
    }
   ],
   "source": [
    "#Calculate Disabilites percents of total\n",
    "merged_dis_df[\"Percentage Disabilities\"]=merged_dis_df[\"2021-2022 student count - year to date_y\"]/merged_dis_df['2021-2022 student count - year to date_x']\n",
    "#Check Count\n",
    "merged_dis_df.count()"
   ]
  },
  {
   "cell_type": "code",
   "execution_count": 490,
   "id": "8ff7d80d",
   "metadata": {},
   "outputs": [
    {
     "name": "stdout",
     "output_type": "stream",
     "text": [
      "-0.46677539240579297\n"
     ]
    },
    {
     "data": {
      "image/png": "[encoded data removed]",
      "text/plain": [
       "<Figure size 640x480 with 1 Axes>"
      ]
     },
     "metadata": {},
     "output_type": "display_data"
    }
   ],
   "source": [
    "x_values = merged_dis_df[\"Percentage Disabilities\"]\n",
    "y_values = merged_dis_df[\"2021-2022 attendance rate - year to date\"]\n",
    "(slope, intercept, rvalue, pvalue, stderr) = linregress(x_values, y_values)\n",
    "regress_values = x_values * slope + intercept\n",
    "line_eq = \"y = \" + str(round(slope,2)) + \"x + \" + str(round(intercept,2))\n",
    "plt.scatter(x_values,y_values, edgecolors=\"sienna\", facecolors=\"darkkhaki\")\n",
    "plt.plot(x_values,regress_values,\"r-\")\n",
    "plt.xlabel('Percent of with Disabilities')\n",
    "plt.ylabel('Attendance Rate')\n",
    "plt.annotate(line_eq,(0.2,0.835),fontsize=15, color = \"red\")\n",
    "print(rvalue)\n",
    "plt.show()"
   ]
  },
  {
   "cell_type": "code",
   "execution_count": 469,
   "id": "2a2b8c9f",
   "metadata": {},
   "outputs": [
    {
     "data": {
      "text/plain": [
       "<Figure size 640x480 with 0 Axes>"
      ]
     },
     "metadata": {},
     "output_type": "display_data"
    }
   ],
   "source": [
    "plt.savefig(\"Images/ScatterDis.png\")"
   ]
  },
  {
   "cell_type": "code",
   "execution_count": 297,
   "id": "c6194f6a",
   "metadata": {},
   "outputs": [
    {
     "name": "stdout",
     "output_type": "stream",
     "text": [
      "The correlation between both factors is -0.47\n"
     ]
    }
   ],
   "source": [
    "correlation = st.pearsonr(x_values, y_values)\n",
    "print(f\"The correlation between both factors is {round(correlation[0],2)}\")"
   ]
  },
  {
   "cell_type": "markdown",
   "id": "35c2689f",
   "metadata": {},
   "source": [
    "# Student with High Needs"
   ]
  },
  {
   "cell_type": "code",
   "execution_count": 298,
   "id": "a399316d",
   "metadata": {},
   "outputs": [
    {
     "data": {
      "text/plain": [
       "District name                               197\n",
       "Student group_x                             197\n",
       "2021-2022 student count - year to date_x    197\n",
       "2021-2022 attendance rate - year to date    197\n",
       "Student group_y                             197\n",
       "2021-2022 student count - year to date_y    197\n",
       "dtype: int64"
      ]
     },
     "execution_count": 298,
     "metadata": {},
     "output_type": "execute_result"
    }
   ],
   "source": [
    "#Filter by Student with High Needs\n",
    "needs_df = data_set_df.loc[(data_set_df[\"Student group\"]==\"Students With High Needs\")]\n",
    "all_df = data_set_df.loc[(data_set_df[\"Student group\"]==\"All Students\")]\n",
    "\n",
    "\n",
    "#Limit data frame again\n",
    "needs_df = needs_df[[\"District name\", \"Student group\", \"2021-2022 student count - year to date\"]]\n",
    "all_df = all_df[[\"District name\", \"Student group\", \"2021-2022 student count - year to date\", \"2021-2022 attendance rate - year to date\"]]\n",
    "\n",
    "#Merge Data sets right\n",
    "merged_needs_df = pd.merge(all_df, needs_df, on=\"District name\", how=\"right\")\n",
    "\n",
    "#Check counts\n",
    "merged_needs_df.count()"
   ]
  },
  {
   "cell_type": "code",
   "execution_count": 299,
   "id": "dbf7f9ca",
   "metadata": {},
   "outputs": [
    {
     "data": {
      "text/plain": [
       "District name                               197\n",
       "Student group_x                             197\n",
       "2021-2022 student count - year to date_x    197\n",
       "2021-2022 attendance rate - year to date    197\n",
       "Student group_y                             197\n",
       "2021-2022 student count - year to date_y    197\n",
       "Percentage High Needs                       197\n",
       "dtype: int64"
      ]
     },
     "execution_count": 299,
     "metadata": {},
     "output_type": "execute_result"
    }
   ],
   "source": [
    "#Calculate High Needs percents of total\n",
    "merged_needs_df[\"Percentage High Needs\"]=merged_needs_df[\"2021-2022 student count - year to date_y\"]/merged_needs_df['2021-2022 student count - year to date_x']\n",
    "#Check Count\n",
    "merged_needs_df.count()"
   ]
  },
  {
   "cell_type": "code",
   "execution_count": 491,
   "id": "1d470621",
   "metadata": {
    "scrolled": true
   },
   "outputs": [
    {
     "name": "stdout",
     "output_type": "stream",
     "text": [
      "-0.719825743438532\n"
     ]
    },
    {
     "data": {
      "image/png": "[encoded data removed]",
      "text/plain": [
       "<Figure size 640x480 with 1 Axes>"
      ]
     },
     "metadata": {},
     "output_type": "display_data"
    }
   ],
   "source": [
    "x_values = merged_needs_df[\"Percentage High Needs\"]\n",
    "y_values = merged_needs_df[\"2021-2022 attendance rate - year to date\"]\n",
    "(slope, intercept, rvalue, pvalue, stderr) = linregress(x_values, y_values)\n",
    "regress_values = x_values * slope + intercept\n",
    "line_eq = \"y = \" + str(round(slope,2)) + \"x + \" + str(round(intercept,2))\n",
    "plt.scatter(x_values,y_values, edgecolors=\"darkslategray\", facecolors=\"forestgreen\")\n",
    "plt.plot(x_values,regress_values,\"r-\")\n",
    "plt.xlabel('Percent of with High Needs')\n",
    "plt.ylabel('Attendance Rate')\n",
    "plt.annotate(line_eq,(0.15,0.88),fontsize=15, color = \"red\")\n",
    "print(rvalue)\n",
    "plt.show()"
   ]
  },
  {
   "cell_type": "code",
   "execution_count": 472,
   "id": "87ad9a0a",
   "metadata": {},
   "outputs": [
    {
     "data": {
      "text/plain": [
       "<Figure size 640x480 with 0 Axes>"
      ]
     },
     "metadata": {},
     "output_type": "display_data"
    }
   ],
   "source": [
    "plt.savefig(\"Images/ScatterHighNeeds.png\")"
   ]
  },
  {
   "cell_type": "code",
   "execution_count": 301,
   "id": "fcb9e060",
   "metadata": {},
   "outputs": [
    {
     "name": "stdout",
     "output_type": "stream",
     "text": [
      "The correlation between both factors is -0.72\n"
     ]
    }
   ],
   "source": [
    "correlation = st.pearsonr(x_values, y_values)\n",
    "print(f\"The correlation between both factors is {round(correlation[0],2)}\")"
   ]
  },
  {
   "cell_type": "markdown",
   "id": "2edb4752",
   "metadata": {},
   "source": [
    "# Students Race = Black or African American"
   ]
  },
  {
   "cell_type": "code",
   "execution_count": 302,
   "id": "96274056",
   "metadata": {},
   "outputs": [
    {
     "data": {
      "text/plain": [
       "District name                               128\n",
       "Student group_x                             128\n",
       "2021-2022 student count - year to date_x    128\n",
       "2021-2022 attendance rate - year to date    128\n",
       "Student group_y                             128\n",
       "2021-2022 student count - year to date_y    128\n",
       "dtype: int64"
      ]
     },
     "execution_count": 302,
     "metadata": {},
     "output_type": "execute_result"
    }
   ],
   "source": [
    "#Filter by Student Race = Black of African American\n",
    "black_df = data_set_df.loc[(data_set_df[\"Student group\"]==\"Black or African American\")]\n",
    "all_df = data_set_df.loc[(data_set_df[\"Student group\"]==\"All Students\")]\n",
    "\n",
    "\n",
    "#Limit data frame again\n",
    "black_df = black_df[[\"District name\", \"Student group\", \"2021-2022 student count - year to date\"]]\n",
    "all_df = all_df[[\"District name\", \"Student group\", \"2021-2022 student count - year to date\", \"2021-2022 attendance rate - year to date\"]]\n",
    "\n",
    "#Merge Data sets right\n",
    "merged_black_df = pd.merge(all_df, black_df, on=\"District name\", how=\"right\")\n",
    "\n",
    "#Check counts\n",
    "merged_black_df.count()"
   ]
  },
  {
   "cell_type": "code",
   "execution_count": 303,
   "id": "a817eb5b",
   "metadata": {},
   "outputs": [
    {
     "data": {
      "text/plain": [
       "District name                               128\n",
       "Student group_x                             128\n",
       "2021-2022 student count - year to date_x    128\n",
       "2021-2022 attendance rate - year to date    128\n",
       "Student group_y                             128\n",
       "2021-2022 student count - year to date_y    128\n",
       "Percentage Black or African American        128\n",
       "dtype: int64"
      ]
     },
     "execution_count": 303,
     "metadata": {},
     "output_type": "execute_result"
    }
   ],
   "source": [
    "#Calculate Black/African American percents of total\n",
    "merged_black_df[\"Percentage Black or African American\"]=merged_black_df[\"2021-2022 student count - year to date_y\"]/merged_black_df['2021-2022 student count - year to date_x']\n",
    "#Check Count\n",
    "merged_black_df.count()"
   ]
  },
  {
   "cell_type": "code",
   "execution_count": 493,
   "id": "2a5d305a",
   "metadata": {},
   "outputs": [
    {
     "name": "stdout",
     "output_type": "stream",
     "text": [
      "-0.4734319890187277\n"
     ]
    },
    {
     "data": {
      "image/png": "[encoded data removed]",
      "text/plain": [
       "<Figure size 640x480 with 1 Axes>"
      ]
     },
     "metadata": {},
     "output_type": "display_data"
    }
   ],
   "source": [
    "x_values = merged_black_df[\"Percentage Black or African American\"]\n",
    "y_values = merged_black_df[\"2021-2022 attendance rate - year to date\"]\n",
    "(slope, intercept, rvalue, pvalue, stderr) = linregress(x_values, y_values)\n",
    "regress_values = x_values * slope + intercept\n",
    "line_eq = \"y = \" + str(round(slope,2)) + \"x + \" + str(round(intercept,2))\n",
    "plt.scatter(x_values,y_values, edgecolors=\"darkgray\", facecolors=\"darkblue\")\n",
    "plt.plot(x_values,regress_values,\"r-\")\n",
    "plt.xlabel('Percent Black and African American')\n",
    "plt.ylabel('Attendance Rate')\n",
    "plt.annotate(line_eq,(0.15,0.86),fontsize=15, color = \"red\")\n",
    "print(rvalue)\n",
    "plt.show()"
   ]
  },
  {
   "cell_type": "code",
   "execution_count": 474,
   "id": "d11435cb",
   "metadata": {},
   "outputs": [
    {
     "data": {
      "text/plain": [
       "<Figure size 640x480 with 0 Axes>"
      ]
     },
     "metadata": {},
     "output_type": "display_data"
    }
   ],
   "source": [
    "plt.savefig(\"Images/ScatterBlack.png\")"
   ]
  },
  {
   "cell_type": "code",
   "execution_count": 306,
   "id": "303a5164",
   "metadata": {},
   "outputs": [
    {
     "name": "stdout",
     "output_type": "stream",
     "text": [
      "The correlation between both factors is -0.47\n"
     ]
    }
   ],
   "source": [
    "correlation = st.pearsonr(x_values, y_values)\n",
    "print(f\"The correlation between both factors is {round(correlation[0],2)}\")"
   ]
  },
  {
   "cell_type": "markdown",
   "id": "fa8fc35a",
   "metadata": {},
   "source": [
    "# Students Race = Hispanic/Latino of any race"
   ]
  },
  {
   "cell_type": "code",
   "execution_count": 307,
   "id": "5d6b4e49",
   "metadata": {},
   "outputs": [
    {
     "data": {
      "text/plain": [
       "District name                               168\n",
       "Student group_x                             168\n",
       "2021-2022 student count - year to date_x    168\n",
       "2021-2022 attendance rate - year to date    168\n",
       "Student group_y                             168\n",
       "2021-2022 student count - year to date_y    168\n",
       "dtype: int64"
      ]
     },
     "execution_count": 307,
     "metadata": {},
     "output_type": "execute_result"
    }
   ],
   "source": [
    "#Filter by Student Race = Hispanic/Latino of any race\n",
    "his_df = data_set_df.loc[(data_set_df[\"Student group\"]==\"Hispanic/Latino of any race\")]\n",
    "all_df = data_set_df.loc[(data_set_df[\"Student group\"]==\"All Students\")]\n",
    "\n",
    "\n",
    "#Limit data frame again\n",
    "his_df = his_df[[\"District name\", \"Student group\", \"2021-2022 student count - year to date\"]]\n",
    "all_df = all_df[[\"District name\", \"Student group\", \"2021-2022 student count - year to date\", \"2021-2022 attendance rate - year to date\"]]\n",
    "\n",
    "#Merge Data sets right\n",
    "merged_his_df = pd.merge(all_df, his_df, on=\"District name\", how=\"right\")\n",
    "\n",
    "#Check counts\n",
    "merged_his_df.count()"
   ]
  },
  {
   "cell_type": "code",
   "execution_count": 308,
   "id": "73660762",
   "metadata": {},
   "outputs": [
    {
     "data": {
      "text/plain": [
       "District name                               168\n",
       "Student group_x                             168\n",
       "2021-2022 student count - year to date_x    168\n",
       "2021-2022 attendance rate - year to date    168\n",
       "Student group_y                             168\n",
       "2021-2022 student count - year to date_y    168\n",
       "Percentage Hispanic/Latino of any race      168\n",
       "dtype: int64"
      ]
     },
     "execution_count": 308,
     "metadata": {},
     "output_type": "execute_result"
    }
   ],
   "source": [
    "#Calculate Hispanic/Latino of any race percents of total\n",
    "merged_his_df[\"Percentage Hispanic/Latino of any race\"]=merged_his_df[\"2021-2022 student count - year to date_y\"]/merged_his_df['2021-2022 student count - year to date_x']\n",
    "#Check Count\n",
    "merged_his_df.count()"
   ]
  },
  {
   "cell_type": "code",
   "execution_count": 494,
   "id": "e56dc1f7",
   "metadata": {},
   "outputs": [
    {
     "name": "stdout",
     "output_type": "stream",
     "text": [
      "-0.5042716980200688\n"
     ]
    },
    {
     "data": {
      "image/png": "[encoded data removed]",
      "text/plain": [
       "<Figure size 640x480 with 1 Axes>"
      ]
     },
     "metadata": {},
     "output_type": "display_data"
    }
   ],
   "source": [
    "x_values = merged_his_df[\"Percentage Hispanic/Latino of any race\"]\n",
    "y_values = merged_his_df[\"2021-2022 attendance rate - year to date\"]\n",
    "(slope, intercept, rvalue, pvalue, stderr) = linregress(x_values, y_values)\n",
    "regress_values = x_values * slope + intercept\n",
    "line_eq = \"y = \" + str(round(slope,2)) + \"x + \" + str(round(intercept,2))\n",
    "plt.scatter(x_values,y_values, edgecolors=\"dimgrey\", facecolors=\"mediumseagreen\")\n",
    "plt.plot(x_values,regress_values,\"r-\")\n",
    "plt.xlabel('Percent of Hispanic/Latino')\n",
    "plt.ylabel('Attendance Rate')\n",
    "plt.annotate(line_eq,(0.15,0.855),fontsize=15, color = \"red\")\n",
    "print(rvalue)\n",
    "plt.show()"
   ]
  },
  {
   "cell_type": "code",
   "execution_count": 495,
   "id": "941e1d9c",
   "metadata": {},
   "outputs": [
    {
     "data": {
      "text/plain": [
       "<Figure size 640x480 with 0 Axes>"
      ]
     },
     "metadata": {},
     "output_type": "display_data"
    }
   ],
   "source": [
    "plt.savefig(\"Images/ScatterHisp.png\")"
   ]
  },
  {
   "cell_type": "code",
   "execution_count": 310,
   "id": "63049923",
   "metadata": {},
   "outputs": [
    {
     "name": "stdout",
     "output_type": "stream",
     "text": [
      "The correlation between both factors is -0.5\n"
     ]
    }
   ],
   "source": [
    "correlation = st.pearsonr(x_values, y_values)\n",
    "print(f\"The correlation between both factors is {round(correlation[0],2)}\")"
   ]
  },
  {
   "cell_type": "markdown",
   "id": "b05fd112",
   "metadata": {},
   "source": [
    "# Students Race = White"
   ]
  },
  {
   "cell_type": "code",
   "execution_count": 311,
   "id": "e4e188b0",
   "metadata": {},
   "outputs": [
    {
     "data": {
      "text/plain": [
       "District name                               182\n",
       "Student group_x                             182\n",
       "2021-2022 student count - year to date_x    182\n",
       "2021-2022 attendance rate - year to date    182\n",
       "Student group_y                             182\n",
       "2021-2022 student count - year to date_y    182\n",
       "dtype: int64"
      ]
     },
     "execution_count": 311,
     "metadata": {},
     "output_type": "execute_result"
    }
   ],
   "source": [
    "#Filter by Student Race = White\n",
    "white_df = data_set_df.loc[(data_set_df[\"Student group\"]==\"White\")]\n",
    "all_df = data_set_df.loc[(data_set_df[\"Student group\"]==\"All Students\")]\n",
    "\n",
    "\n",
    "#Limit data frame again\n",
    "white_df = white_df[[\"District name\", \"Student group\", \"2021-2022 student count - year to date\"]]\n",
    "all_df = all_df[[\"District name\", \"Student group\", \"2021-2022 student count - year to date\", \"2021-2022 attendance rate - year to date\"]]\n",
    "\n",
    "#Merge Data sets right\n",
    "merged_white_df = pd.merge(all_df, white_df, on=\"District name\", how=\"right\")\n",
    "\n",
    "#Check counts\n",
    "merged_white_df.count()"
   ]
  },
  {
   "cell_type": "code",
   "execution_count": 312,
   "id": "06aa1e57",
   "metadata": {},
   "outputs": [
    {
     "data": {
      "text/plain": [
       "District name                               182\n",
       "Student group_x                             182\n",
       "2021-2022 student count - year to date_x    182\n",
       "2021-2022 attendance rate - year to date    182\n",
       "Student group_y                             182\n",
       "2021-2022 student count - year to date_y    182\n",
       "Percentage White                            182\n",
       "dtype: int64"
      ]
     },
     "execution_count": 312,
     "metadata": {},
     "output_type": "execute_result"
    }
   ],
   "source": [
    "#Calculate Hispanic/Latino of any race percents of total\n",
    "merged_white_df[\"Percentage White\"]=merged_white_df[\"2021-2022 student count - year to date_y\"]/merged_white_df['2021-2022 student count - year to date_x']\n",
    "\n",
    "#Check Count\n",
    "merged_white_df.count()"
   ]
  },
  {
   "cell_type": "code",
   "execution_count": 496,
   "id": "11271fba",
   "metadata": {},
   "outputs": [
    {
     "name": "stdout",
     "output_type": "stream",
     "text": [
      "0.5127319750155351\n"
     ]
    },
    {
     "data": {
      "image/png": "[encoded data removed]",
      "text/plain": [
       "<Figure size 640x480 with 1 Axes>"
      ]
     },
     "metadata": {},
     "output_type": "display_data"
    }
   ],
   "source": [
    "x_values = merged_white_df[\"Percentage White\"]\n",
    "y_values = merged_white_df[\"2021-2022 attendance rate - year to date\"]\n",
    "(slope, intercept, rvalue, pvalue, stderr) = linregress(x_values, y_values)\n",
    "regress_values = x_values * slope + intercept\n",
    "line_eq = \"y = \" + str(round(slope,2)) + \"x + \" + str(round(intercept,2))\n",
    "plt.scatter(x_values,y_values, edgecolors=\"darkslategray\", facecolors=\"mediumvioletred\")\n",
    "plt.plot(x_values,regress_values,\"r-\")\n",
    "plt.xlabel('Percent White')\n",
    "plt.ylabel('Attendance Rate')\n",
    "plt.annotate(line_eq,(0.15,0.86),fontsize=15, color = \"red\")\n",
    "print(rvalue)\n",
    "plt.show()"
   ]
  },
  {
   "cell_type": "code",
   "execution_count": 497,
   "id": "5ef821a6",
   "metadata": {},
   "outputs": [
    {
     "data": {
      "text/plain": [
       "<Figure size 640x480 with 0 Axes>"
      ]
     },
     "metadata": {},
     "output_type": "display_data"
    }
   ],
   "source": [
    "plt.savefig(\"Images/ScatterWhite.png\")"
   ]
  },
  {
   "cell_type": "code",
   "execution_count": 314,
   "id": "db9ec4da",
   "metadata": {},
   "outputs": [
    {
     "name": "stdout",
     "output_type": "stream",
     "text": [
      "The correlation between both factors is 0.51\n"
     ]
    }
   ],
   "source": [
    "correlation = st.pearsonr(x_values, y_values)\n",
    "print(f\"The correlation between both factors is {round(correlation[0],2)}\")"
   ]
  },
  {
   "cell_type": "markdown",
   "id": "e91cdd4f",
   "metadata": {},
   "source": [
    "# Students All Other Races"
   ]
  },
  {
   "cell_type": "code",
   "execution_count": 315,
   "id": "e1b6054e",
   "metadata": {},
   "outputs": [
    {
     "data": {
      "text/plain": [
       "District name                               121\n",
       "Student group_x                             121\n",
       "2021-2022 student count - year to date_x    121\n",
       "2021-2022 attendance rate - year to date    121\n",
       "Student group_y                             121\n",
       "2021-2022 student count - year to date_y    121\n",
       "dtype: int64"
      ]
     },
     "execution_count": 315,
     "metadata": {},
     "output_type": "execute_result"
    }
   ],
   "source": [
    "#Filter by Student Race = All Other\n",
    "other_df = data_set_df.loc[(data_set_df[\"Student group\"]==\"All other races\")]\n",
    "all_df = data_set_df.loc[(data_set_df[\"Student group\"]==\"All Students\")]\n",
    "\n",
    "\n",
    "#Limit data frame again\n",
    "other_df = other_df[[\"District name\", \"Student group\", \"2021-2022 student count - year to date\"]]\n",
    "all_df = all_df[[\"District name\", \"Student group\", \"2021-2022 student count - year to date\", \"2021-2022 attendance rate - year to date\"]]\n",
    "\n",
    "#Merge Data sets right\n",
    "merged_other_df = pd.merge(all_df, other_df, on=\"District name\", how=\"right\")\n",
    "\n",
    "#Check counts\n",
    "merged_other_df.count()"
   ]
  },
  {
   "cell_type": "code",
   "execution_count": 316,
   "id": "ccd5d4d8",
   "metadata": {},
   "outputs": [
    {
     "data": {
      "text/plain": [
       "District name                               121\n",
       "Student group_x                             121\n",
       "2021-2022 student count - year to date_x    121\n",
       "2021-2022 attendance rate - year to date    121\n",
       "Student group_y                             121\n",
       "2021-2022 student count - year to date_y    121\n",
       "Percentage Other Races                      121\n",
       "dtype: int64"
      ]
     },
     "execution_count": 316,
     "metadata": {},
     "output_type": "execute_result"
    }
   ],
   "source": [
    "#Calculate Hispanic/Latino of any race percents of total\n",
    "merged_other_df[\"Percentage Other Races\"]=merged_other_df[\"2021-2022 student count - year to date_y\"]/merged_other_df['2021-2022 student count - year to date_x']\n",
    "\n",
    "#Check Count\n",
    "merged_other_df.count()"
   ]
  },
  {
   "cell_type": "code",
   "execution_count": 498,
   "id": "08a8d3b0",
   "metadata": {},
   "outputs": [
    {
     "name": "stdout",
     "output_type": "stream",
     "text": [
      "0.22706892629570416\n"
     ]
    },
    {
     "data": {
      "image/png": "[encoded data removed]",
      "text/plain": [
       "<Figure size 640x480 with 1 Axes>"
      ]
     },
     "metadata": {},
     "output_type": "display_data"
    }
   ],
   "source": [
    "x_values = merged_other_df[\"Percentage Other Races\"]\n",
    "y_values = merged_other_df[\"2021-2022 attendance rate - year to date\"]\n",
    "(slope, intercept, rvalue, pvalue, stderr) = linregress(x_values, y_values)\n",
    "regress_values = x_values * slope + intercept\n",
    "line_eq = \"y = \" + str(round(slope,2)) + \"x + \" + str(round(intercept,2))\n",
    "plt.scatter(x_values,y_values, edgecolors=\"darkslategray\", facecolors=\"plum\")\n",
    "plt.plot(x_values,regress_values,\"r-\")\n",
    "plt.xlabel('Percent Other Races')\n",
    "plt.ylabel('Attendance Rate')\n",
    "plt.annotate(line_eq,(0.18,0.9),fontsize=15, color = \"red\")\n",
    "print(rvalue)\n",
    "plt.show()"
   ]
  },
  {
   "cell_type": "code",
   "execution_count": 499,
   "id": "6719688d",
   "metadata": {},
   "outputs": [
    {
     "data": {
      "text/plain": [
       "<Figure size 640x480 with 0 Axes>"
      ]
     },
     "metadata": {},
     "output_type": "display_data"
    }
   ],
   "source": [
    "plt.savefig(\"Images/ScatterOtherRace.png\")"
   ]
  },
  {
   "cell_type": "code",
   "execution_count": 318,
   "id": "129e70bf",
   "metadata": {},
   "outputs": [
    {
     "name": "stdout",
     "output_type": "stream",
     "text": [
      "The correlation between both factors is 0.23\n"
     ]
    }
   ],
   "source": [
    "correlation = st.pearsonr(x_values, y_values)\n",
    "print(f\"The correlation between both factors is {round(correlation[0],2)}\")"
   ]
  },
  {
   "cell_type": "code",
   "execution_count": null,
   "id": "4e58ea4a",
   "metadata": {},
   "outputs": [],
   "source": []
  },
  {
   "cell_type": "code",
   "execution_count": null,
   "id": "a3068694",
   "metadata": {},
   "outputs": [],
   "source": []
  },
  {
   "cell_type": "code",
   "execution_count": null,
   "id": "aec1cae3",
   "metadata": {},
   "outputs": [],
   "source": []
  },
  {
   "cell_type": "markdown",
   "id": "a55af9eb",
   "metadata": {},
   "source": [
    "# Box and Whiskers"
   ]
  },
  {
   "cell_type": "markdown",
   "id": "324d3a98",
   "metadata": {},
   "source": [
    "### All Students"
   ]
  },
  {
   "cell_type": "code",
   "execution_count": 501,
   "id": "6c5192da",
   "metadata": {},
   "outputs": [
    {
     "data": {
      "text/html": [
       "<div>\n",
       "<style scoped>\n",
       "    .dataframe tbody tr th:only-of-type {\n",
       "        vertical-align: middle;\n",
       "    }\n",
       "\n",
       "    .dataframe tbody tr th {\n",
       "        vertical-align: top;\n",
       "    }\n",
       "\n",
       "    .dataframe thead th {\n",
       "        text-align: right;\n",
       "    }\n",
       "</style>\n",
       "<table border=\"1\" class=\"dataframe\">\n",
       "  <thead>\n",
       "    <tr style=\"text-align: right;\">\n",
       "      <th></th>\n",
       "      <th>District name</th>\n",
       "      <th>2021-2022 attendance rate - year to date</th>\n",
       "      <th>2020-2021 attendance rate</th>\n",
       "      <th>2019-2020 attendance rate</th>\n",
       "    </tr>\n",
       "  </thead>\n",
       "  <tbody>\n",
       "    <tr>\n",
       "      <th>0</th>\n",
       "      <td>Connecticut</td>\n",
       "      <td>0.9169</td>\n",
       "      <td>0.9294</td>\n",
       "      <td>0.9479</td>\n",
       "    </tr>\n",
       "    <tr>\n",
       "      <th>13</th>\n",
       "      <td>Andover School District</td>\n",
       "      <td>0.9386</td>\n",
       "      <td>0.9680</td>\n",
       "      <td>0.9502</td>\n",
       "    </tr>\n",
       "    <tr>\n",
       "      <th>19</th>\n",
       "      <td>Ansonia School District</td>\n",
       "      <td>0.9045</td>\n",
       "      <td>0.8923</td>\n",
       "      <td>0.9413</td>\n",
       "    </tr>\n",
       "    <tr>\n",
       "      <th>31</th>\n",
       "      <td>Ashford School District</td>\n",
       "      <td>0.9309</td>\n",
       "      <td>0.9550</td>\n",
       "      <td>0.9585</td>\n",
       "    </tr>\n",
       "    <tr>\n",
       "      <th>40</th>\n",
       "      <td>Avon School District</td>\n",
       "      <td>0.9457</td>\n",
       "      <td>0.9621</td>\n",
       "      <td>0.9583</td>\n",
       "    </tr>\n",
       "    <tr>\n",
       "      <th>...</th>\n",
       "      <td>...</td>\n",
       "      <td>...</td>\n",
       "      <td>...</td>\n",
       "      <td>...</td>\n",
       "    </tr>\n",
       "    <tr>\n",
       "      <th>1972</th>\n",
       "      <td>Unified School District #2</td>\n",
       "      <td>0.9202</td>\n",
       "      <td>0.9602</td>\n",
       "      <td>0.9564</td>\n",
       "    </tr>\n",
       "    <tr>\n",
       "      <th>1977</th>\n",
       "      <td>Connecticut Technical Education and Career System</td>\n",
       "      <td>0.8985</td>\n",
       "      <td>0.9321</td>\n",
       "      <td>0.9480</td>\n",
       "    </tr>\n",
       "    <tr>\n",
       "      <th>1990</th>\n",
       "      <td>Norwich Free Academy District</td>\n",
       "      <td>0.8940</td>\n",
       "      <td>0.9000</td>\n",
       "      <td>0.9319</td>\n",
       "    </tr>\n",
       "    <tr>\n",
       "      <th>2002</th>\n",
       "      <td>The Gilbert School District</td>\n",
       "      <td>0.8901</td>\n",
       "      <td>0.9458</td>\n",
       "      <td>0.9394</td>\n",
       "    </tr>\n",
       "    <tr>\n",
       "      <th>2011</th>\n",
       "      <td>The Woodstock Academy District</td>\n",
       "      <td>0.9288</td>\n",
       "      <td>0.9589</td>\n",
       "      <td>0.9471</td>\n",
       "    </tr>\n",
       "  </tbody>\n",
       "</table>\n",
       "<p>201 rows × 4 columns</p>\n",
       "</div>"
      ],
      "text/plain": [
       "                                          District name  \\\n",
       "0                                           Connecticut   \n",
       "13                              Andover School District   \n",
       "19                              Ansonia School District   \n",
       "31                              Ashford School District   \n",
       "40                                 Avon School District   \n",
       "...                                                 ...   \n",
       "1972                         Unified School District #2   \n",
       "1977  Connecticut Technical Education and Career System   \n",
       "1990                      Norwich Free Academy District   \n",
       "2002                        The Gilbert School District   \n",
       "2011                     The Woodstock Academy District   \n",
       "\n",
       "      2021-2022 attendance rate - year to date  2020-2021 attendance rate  \\\n",
       "0                                       0.9169                     0.9294   \n",
       "13                                      0.9386                     0.9680   \n",
       "19                                      0.9045                     0.8923   \n",
       "31                                      0.9309                     0.9550   \n",
       "40                                      0.9457                     0.9621   \n",
       "...                                        ...                        ...   \n",
       "1972                                    0.9202                     0.9602   \n",
       "1977                                    0.8985                     0.9321   \n",
       "1990                                    0.8940                     0.9000   \n",
       "2002                                    0.8901                     0.9458   \n",
       "2011                                    0.9288                     0.9589   \n",
       "\n",
       "      2019-2020 attendance rate  \n",
       "0                        0.9479  \n",
       "13                       0.9502  \n",
       "19                       0.9413  \n",
       "31                       0.9585  \n",
       "40                       0.9583  \n",
       "...                         ...  \n",
       "1972                     0.9564  \n",
       "1977                     0.9480  \n",
       "1990                     0.9319  \n",
       "2002                     0.9394  \n",
       "2011                     0.9471  \n",
       "\n",
       "[201 rows x 4 columns]"
      ]
     },
     "execution_count": 501,
     "metadata": {},
     "output_type": "execute_result"
    }
   ],
   "source": [
    "#Recall Data Frame of All Students attendance rates\n",
    "all_students_df"
   ]
  },
  {
   "cell_type": "code",
   "execution_count": 502,
   "id": "ea905b37",
   "metadata": {},
   "outputs": [],
   "source": [
    "all_students_df.to_csv(\"all_students_df.csv\")"
   ]
  },
  {
   "cell_type": "code",
   "execution_count": 407,
   "id": "28706d36",
   "metadata": {},
   "outputs": [
    {
     "data": {
      "text/plain": [
       "District name                               201\n",
       "2021-2022 attendance rate - year to date    201\n",
       "2020-2021 attendance rate                   200\n",
       "2019-2020 attendance rate                   200\n",
       "dtype: int64"
      ]
     },
     "execution_count": 407,
     "metadata": {},
     "output_type": "execute_result"
    }
   ],
   "source": [
    "#Check for counts\n",
    "all_students_df.count()"
   ]
  },
  {
   "cell_type": "code",
   "execution_count": 409,
   "id": "d48f8ddc",
   "metadata": {},
   "outputs": [
    {
     "data": {
      "text/plain": [
       "District name                               200\n",
       "2021-2022 attendance rate - year to date    200\n",
       "2020-2021 attendance rate                   200\n",
       "2019-2020 attendance rate                   200\n",
       "dtype: int64"
      ]
     },
     "execution_count": 409,
     "metadata": {},
     "output_type": "execute_result"
    }
   ],
   "source": [
    "#Drop Null Values\n",
    "all_students_new_df = all_students_df.dropna(how=\"any\")\n",
    "all_students_new_df.count()"
   ]
  },
  {
   "cell_type": "code",
   "execution_count": 413,
   "id": "e5e701e7",
   "metadata": {
    "scrolled": true
   },
   "outputs": [
    {
     "data": {
      "text/html": [
       "<div>\n",
       "<style scoped>\n",
       "    .dataframe tbody tr th:only-of-type {\n",
       "        vertical-align: middle;\n",
       "    }\n",
       "\n",
       "    .dataframe tbody tr th {\n",
       "        vertical-align: top;\n",
       "    }\n",
       "\n",
       "    .dataframe thead th {\n",
       "        text-align: right;\n",
       "    }\n",
       "</style>\n",
       "<table border=\"1\" class=\"dataframe\">\n",
       "  <thead>\n",
       "    <tr style=\"text-align: right;\">\n",
       "      <th></th>\n",
       "      <th>2021-2022 attendance rate - year to date</th>\n",
       "      <th>2020-2021 attendance rate</th>\n",
       "      <th>2019-2020 attendance rate</th>\n",
       "    </tr>\n",
       "  </thead>\n",
       "  <tbody>\n",
       "    <tr>\n",
       "      <th>count</th>\n",
       "      <td>200.000000</td>\n",
       "      <td>200.000000</td>\n",
       "      <td>200.000000</td>\n",
       "    </tr>\n",
       "    <tr>\n",
       "      <th>mean</th>\n",
       "      <td>0.924749</td>\n",
       "      <td>0.939221</td>\n",
       "      <td>0.951207</td>\n",
       "    </tr>\n",
       "    <tr>\n",
       "      <th>std</th>\n",
       "      <td>0.026291</td>\n",
       "      <td>0.037230</td>\n",
       "      <td>0.012376</td>\n",
       "    </tr>\n",
       "    <tr>\n",
       "      <th>min</th>\n",
       "      <td>0.778500</td>\n",
       "      <td>0.772900</td>\n",
       "      <td>0.869600</td>\n",
       "    </tr>\n",
       "    <tr>\n",
       "      <th>25%</th>\n",
       "      <td>0.913525</td>\n",
       "      <td>0.926250</td>\n",
       "      <td>0.945925</td>\n",
       "    </tr>\n",
       "    <tr>\n",
       "      <th>50%</th>\n",
       "      <td>0.931600</td>\n",
       "      <td>0.951250</td>\n",
       "      <td>0.953500</td>\n",
       "    </tr>\n",
       "    <tr>\n",
       "      <th>75%</th>\n",
       "      <td>0.942025</td>\n",
       "      <td>0.964325</td>\n",
       "      <td>0.958025</td>\n",
       "    </tr>\n",
       "    <tr>\n",
       "      <th>max</th>\n",
       "      <td>0.959600</td>\n",
       "      <td>0.981100</td>\n",
       "      <td>0.999600</td>\n",
       "    </tr>\n",
       "  </tbody>\n",
       "</table>\n",
       "</div>"
      ],
      "text/plain": [
       "       2021-2022 attendance rate - year to date  2020-2021 attendance rate  \\\n",
       "count                                200.000000                 200.000000   \n",
       "mean                                   0.924749                   0.939221   \n",
       "std                                    0.026291                   0.037230   \n",
       "min                                    0.778500                   0.772900   \n",
       "25%                                    0.913525                   0.926250   \n",
       "50%                                    0.931600                   0.951250   \n",
       "75%                                    0.942025                   0.964325   \n",
       "max                                    0.959600                   0.981100   \n",
       "\n",
       "       2019-2020 attendance rate  \n",
       "count                 200.000000  \n",
       "mean                    0.951207  \n",
       "std                     0.012376  \n",
       "min                     0.869600  \n",
       "25%                     0.945925  \n",
       "50%                     0.953500  \n",
       "75%                     0.958025  \n",
       "max                     0.999600  "
      ]
     },
     "execution_count": 413,
     "metadata": {},
     "output_type": "execute_result"
    }
   ],
   "source": [
    "all_students_new_df.describe()"
   ]
  },
  {
   "cell_type": "code",
   "execution_count": 420,
   "id": "a495f7bf",
   "metadata": {},
   "outputs": [
    {
     "name": "stdout",
     "output_type": "stream",
     "text": [
      "The lower quartile is: 0.9459249999999999\n",
      "The upper quartile is 0.9580249999999999\n",
      "The median is: 0.9535\n",
      "The IQR is: 0.0121\n",
      "\n",
      "Lower Bound: 0.9277749999999999\n",
      "Upper Bound: 0.9761749999999999\n",
      "\n",
      "The max value is: 0.9996\n",
      "The min value is: 0.8696\n",
      "-----------------------------\n",
      "The lower quartile is: 0.92625\n",
      "The upper quartile is 0.9643250000000001\n",
      "The median is: 0.95125\n",
      "The IQR is: 0.03807500000000008\n",
      "\n",
      "Lower Bound: 0.8691374999999999\n",
      "Upper Bound: 1.0214375000000002\n",
      "\n",
      "The max value is: 0.9811\n",
      "The min value is: 0.7729\n",
      "-----------------------------\n",
      "The lower quartile is: 0.9135249999999999\n",
      "The upper quartile is 0.942025\n",
      "The median is: 0.9316\n",
      "The IQR is: 0.02850000000000008\n",
      "\n",
      "Lower Bound: 0.8707749999999999\n",
      "Upper Bound: 0.9847750000000002\n",
      "\n",
      "The max value is: 0.9596\n",
      "The min value is: 0.7785\n",
      "-----------------------------\n"
     ]
    }
   ],
   "source": [
    "#Statistical Analysis Attendance Rates\n",
    "#Assign Variables for each school year\n",
    "rates_2020 = all_students_new_df[\"2019-2020 attendance rate\"]\n",
    "rates_2021 = all_students_new_df[\"2020-2021 attendance rate\"]\n",
    "rates_2022 = all_students_new_df[\"2021-2022 attendance rate - year to date\"]\n",
    "\n",
    "rates = [rates_2020, rates_2021, rates_2022]\n",
    "for item in rates:\n",
    "    quartiles = item.quantile([.25, .5, .75])\n",
    "    lowerq = quartiles[0.25]\n",
    "    upperq = quartiles[0.75]\n",
    "    iqr=upperq-lowerq\n",
    "\n",
    "    print(f\"The lower quartile is: {lowerq}\")\n",
    "    print(f\"The upper quartile is {upperq}\")\n",
    "    print(f\"The median is: {quartiles[0.5]}\")\n",
    "    print(f\"The IQR is: {iqr}\")\n",
    "    print(\"\")\n",
    "\n",
    "    lower_bound = lowerq - (1.5*iqr)\n",
    "    upper_bound = upperq + (1.5*iqr)\n",
    "\n",
    "    print(f\"Lower Bound: {lower_bound}\")\n",
    "    print(f\"Upper Bound: {upper_bound}\")\n",
    "    print(\"\")\n",
    "\n",
    "    print(f\"The max value is: {item.max()}\")\n",
    "    print(f\"The min value is: {item.min()}\")\n",
    "    print(\"-----------------------------\")"
   ]
  },
  {
   "cell_type": "code",
   "execution_count": 443,
   "id": "cc90cd82",
   "metadata": {},
   "outputs": [
    {
     "data": {
      "image/png": "[encoded data removed]",
      "text/plain": [
       "<Figure size 640x480 with 1 Axes>"
      ]
     },
     "metadata": {},
     "output_type": "display_data"
    }
   ],
   "source": [
    "\n",
    "labels = [\"2019-2020\", \"2020-2021\", \"2021-2022\"]\n",
    "#Plot\n",
    "x_axis = [rates_2020, rates_2021, rates_2022]\n",
    "fig, ax1 = plt.subplots()\n",
    "ax1.set_ylabel(\"Attendance Rate\")\n",
    "bp_all = ax1.boxplot(x_axis, patch_artist = True, labels = labels)\n",
    "\n",
    "colors = [\"paleturquoise\", \"thistle\", \"palegreen\"]\n",
    "for patch, color in zip(bp_all['boxes'], colors):\n",
    "    patch.set_facecolor(color)\n",
    "ax1.set_title(\"All Student Attendance Rates 2019-2022\")\n",
    "ax1.yaxis.grid(True)\n",
    "\n",
    "plt.show()"
   ]
  },
  {
   "cell_type": "code",
   "execution_count": 444,
   "id": "7ca4b076",
   "metadata": {},
   "outputs": [
    {
     "data": {
      "text/plain": [
       "<Figure size 640x480 with 0 Axes>"
      ]
     },
     "metadata": {},
     "output_type": "display_data"
    }
   ],
   "source": [
    "plt.savefig(\"Images/AllStudentsBoxPlot.png\")"
   ]
  },
  {
   "cell_type": "code",
   "execution_count": null,
   "id": "5cd5df3f",
   "metadata": {},
   "outputs": [],
   "source": []
  },
  {
   "cell_type": "markdown",
   "id": "76c9fd90",
   "metadata": {},
   "source": [
    "### Free and Reduced Meals"
   ]
  },
  {
   "cell_type": "code",
   "execution_count": 440,
   "id": "de657699",
   "metadata": {},
   "outputs": [
    {
     "data": {
      "text/plain": [
       "District name                               197\n",
       "2019-2020 attendance rate                   194\n",
       "2020-2021 attendance rate                   193\n",
       "2021-2022 attendance rate - year to date    197\n",
       "dtype: int64"
      ]
     },
     "execution_count": 440,
     "metadata": {},
     "output_type": "execute_result"
    }
   ],
   "source": [
    "#Filter results based on Free and Reduced Meals\n",
    "fr_attendance_df = data_set_df.loc[data_set_df[\"Student group\"]==\"Free/Reduced Price Meal Eligible\"]\n",
    "#Make new data frame\n",
    "fr_attendance_df = fr_attendance_df[[\"District name\", \"2019-2020 attendance rate\", \"2020-2021 attendance rate\", \"2021-2022 attendance rate - year to date\"]]\n",
    "#Test Counts\n",
    "fr_attendance_df.count()"
   ]
  },
  {
   "cell_type": "code",
   "execution_count": 441,
   "id": "a533fda3",
   "metadata": {},
   "outputs": [
    {
     "data": {
      "text/plain": [
       "District name                               191\n",
       "2019-2020 attendance rate                   191\n",
       "2020-2021 attendance rate                   191\n",
       "2021-2022 attendance rate - year to date    191\n",
       "dtype: int64"
      ]
     },
     "execution_count": 441,
     "metadata": {},
     "output_type": "execute_result"
    }
   ],
   "source": [
    "#Remove Null Values and test count\n",
    "fr_attendance_new_df = fr_attendance_df.dropna(how=\"any\")\n",
    "fr_attendance_new_df.count()"
   ]
  },
  {
   "cell_type": "code",
   "execution_count": 442,
   "id": "449b5b51",
   "metadata": {},
   "outputs": [
    {
     "name": "stdout",
     "output_type": "stream",
     "text": [
      "The lower quartile is: 0.93485\n",
      "The upper quartile is 0.94885\n",
      "The median is: 0.9428\n",
      "The IQR is: 0.014000000000000012\n",
      "\n",
      "Lower Bound: 0.9138499999999999\n",
      "Upper Bound: 0.96985\n",
      "\n",
      "The max value is: 0.9991\n",
      "The min value is: 0.8196\n",
      "-----------------------------\n",
      "The lower quartile is: 0.89905\n",
      "The upper quartile is 0.9449000000000001\n",
      "The median is: 0.9267\n",
      "The IQR is: 0.04585000000000006\n",
      "\n",
      "Lower Bound: 0.8302749999999999\n",
      "Upper Bound: 1.013675\n",
      "\n",
      "The max value is: 0.9774\n",
      "The min value is: 0.6882\n",
      "-----------------------------\n",
      "The lower quartile is: 0.8994\n",
      "The upper quartile is 0.9264\n",
      "The median is: 0.9133\n",
      "The IQR is: 0.027000000000000024\n",
      "\n",
      "Lower Bound: 0.8589\n",
      "Upper Bound: 0.9669000000000001\n",
      "\n",
      "The max value is: 0.9541\n",
      "The min value is: 0.7254\n",
      "-----------------------------\n"
     ]
    }
   ],
   "source": [
    "#Statistical Analysis Attendance Rates\n",
    "#Assign Variables for each school year\n",
    "rates_2020_fr = fr_attendance_new_df[\"2019-2020 attendance rate\"]\n",
    "rates_2021_fr = fr_attendance_new_df[\"2020-2021 attendance rate\"]\n",
    "rates_2022_fr = fr_attendance_new_df[\"2021-2022 attendance rate - year to date\"]\n",
    "\n",
    "rates = [rates_2020_fr, rates_2021_fr, rates_2022_fr]\n",
    "for item in rates:\n",
    "    quartiles = item.quantile([.25, .5, .75])\n",
    "    lowerq = quartiles[0.25]\n",
    "    upperq = quartiles[0.75]\n",
    "    iqr=upperq-lowerq\n",
    "\n",
    "    print(f\"The lower quartile is: {lowerq}\")\n",
    "    print(f\"The upper quartile is {upperq}\")\n",
    "    print(f\"The median is: {quartiles[0.5]}\")\n",
    "    print(f\"The IQR is: {iqr}\")\n",
    "    print(\"\")\n",
    "\n",
    "    lower_bound = lowerq - (1.5*iqr)\n",
    "    upper_bound = upperq + (1.5*iqr)\n",
    "\n",
    "    print(f\"Lower Bound: {lower_bound}\")\n",
    "    print(f\"Upper Bound: {upper_bound}\")\n",
    "    print(\"\")\n",
    "\n",
    "    print(f\"The max value is: {item.max()}\")\n",
    "    print(f\"The min value is: {item.min()}\")\n",
    "    print(\"-----------------------------\")"
   ]
  },
  {
   "cell_type": "code",
   "execution_count": 445,
   "id": "a4dc3341",
   "metadata": {},
   "outputs": [
    {
     "data": {
      "image/png": "[encoded data removed]",
      "text/plain": [
       "<Figure size 640x480 with 1 Axes>"
      ]
     },
     "metadata": {},
     "output_type": "display_data"
    }
   ],
   "source": [
    "\n",
    "labels = [\"2019-2020\", \"2020-2021\", \"2021-2022\"]\n",
    "#Plot\n",
    "x_axis = [rates_2020_fr, rates_2021_fr, rates_2022_fr]\n",
    "fig, ax1 = plt.subplots()\n",
    "ax1.set_ylabel(\"Attendance Rate\")\n",
    "bp_fr = ax1.boxplot(x_axis, patch_artist = True, labels = labels)\n",
    "\n",
    "colors = [\"thistle\", \"mediumpurple\", \"rebeccapurple\"]\n",
    "for patch, color in zip(bp_fr['boxes'], colors):\n",
    "    patch.set_facecolor(color)\n",
    "ax1.set_title(\"Free/Reduced Meal Student Attendance Rates 2019-2022\")\n",
    "ax1.yaxis.grid(True)\n",
    "\n",
    "plt.show()"
   ]
  },
  {
   "cell_type": "code",
   "execution_count": 446,
   "id": "1b334bb6",
   "metadata": {},
   "outputs": [
    {
     "data": {
      "text/plain": [
       "<Figure size 640x480 with 0 Axes>"
      ]
     },
     "metadata": {},
     "output_type": "display_data"
    }
   ],
   "source": [
    "plt.savefig(\"Images/FRBoxPlot.png\")"
   ]
  },
  {
   "cell_type": "code",
   "execution_count": null,
   "id": "b1ed9129",
   "metadata": {},
   "outputs": [],
   "source": []
  },
  {
   "cell_type": "code",
   "execution_count": null,
   "id": "37b47181",
   "metadata": {},
   "outputs": [],
   "source": []
  },
  {
   "cell_type": "markdown",
   "id": "5effe359",
   "metadata": {},
   "source": [
    "### English Language Learners"
   ]
  },
  {
   "cell_type": "code",
   "execution_count": null,
   "id": "7d2337d1",
   "metadata": {},
   "outputs": [],
   "source": [
    "#Filter results based on Free and Reduced Meals\n",
    "ell_attendance_df = data_set_df.loc[data_set_df[\"Student group\"]==\"Free/Reduced Price Meal Eligible\"]\n",
    "#Make new data frame\n",
    "fr_attendance_df = fr_attendance_df[[\"District name\", \"2019-2020 attendance rate\", \"2020-2021 attendance rate\", \"2021-2022 attendance rate - year to date\"]]\n",
    "#Test Counts\n",
    "fr_attendance_df.count()"
   ]
  }
 ],
 "metadata": {
  "kernelspec": {
   "display_name": "Python 3 (ipykernel)",
   "language": "python",
   "name": "python3"
  },
  "language_info": {
   "codemirror_mode": {
    "name": "ipython",
    "version": 3
   },
   "file_extension": ".py",
   "mimetype": "text/x-python",
   "name": "python",
   "nbconvert_exporter": "python",
   "pygments_lexer": "ipython3",
   "version": "3.11.5"
  }
 },
 "nbformat": 4,
 "nbformat_minor": 5
}
